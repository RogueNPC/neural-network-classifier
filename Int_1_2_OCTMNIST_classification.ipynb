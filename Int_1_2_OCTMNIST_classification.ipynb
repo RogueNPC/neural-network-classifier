{
  "nbformat": 4,
  "nbformat_minor": 0,
  "metadata": {
    "colab": {
      "name": "Int 1.2 OCTMNIST_classification.ipynb",
      "provenance": [],
      "collapsed_sections": [],
      "include_colab_link": true
    },
    "kernelspec": {
      "display_name": "Python 3",
      "name": "python3"
    }
  },
  "cells": [
    {
      "cell_type": "markdown",
      "metadata": {
        "id": "view-in-github",
        "colab_type": "text"
      },
      "source": [
        "<a href=\"https://colab.research.google.com/github/RogueNPC/neural-network-classifier/blob/main/Int_1_2_OCTMNIST_classification.ipynb\" target=\"_parent\"><img src=\"https://colab.research.google.com/assets/colab-badge.svg\" alt=\"Open In Colab\"/></a>"
      ]
    },
    {
      "cell_type": "markdown",
      "metadata": {
        "id": "RMb52AqvPZ2S"
      },
      "source": [
        "# DEEP LEARNING FOR IMAGE CLASSIFICATION\r\n",
        "### The Make School Winter 2021 Data Science Intensive <br>\r\n",
        "\r\n",
        "Instructor: Joseph Catanzarite <br>\r\n",
        "Dates: 07 - 12 Jan 2021 \r\n"
      ]
    },
    {
      "cell_type": "markdown",
      "metadata": {
        "id": "OvwDLZByXBWP"
      },
      "source": [
        "<img src=\"https://medmnist.github.io/assets/overview.jpg\">"
      ]
    },
    {
      "cell_type": "markdown",
      "metadata": {
        "id": "g11wo0jEVNnb"
      },
      "source": [
        "<table class=\"tfo-notebook-buttons\" align=\"left\">\n",
        "  <td>\n",
        "    <a target=\"_blank\" href=\"https://colab.research.google.com/drive/19y0pHqFsaN9-ehvCcuiXFL7FryIBXRTf?usp=sharing\" \n",
        "    ><img src=\"https://www.tensorflow.org/images/colab_logo_32px.png\" />Run in Google Colab</a>\n",
        "  </td>\n",
        "\n",
        "</table>"
      ]
    },
    {
      "cell_type": "markdown",
      "metadata": {
        "id": "ECiYBHlNBdhc"
      },
      "source": [
        "\r\n",
        "\r\n",
        "## Goals\r\n",
        "* Introduce Juniors to Make School’s Data Science concentration\r\n",
        "* Allow Seniors an opportunity to exercise and further develop their Data Science skills\r\n",
        "\r\n",
        "\r\n",
        "\r\n",
        "\r\n",
        "\r\n",
        "## Learning Objectives: <br>\r\n",
        "On completion, the student will have gained familiarity with \r\n",
        "* The basic pattern of the data science workflow\r\n",
        "* The TensorFlow/Keras deep learning library\r\n",
        "* Google Colab and the magic of cloud computing\r\n",
        "\r\n",
        "AND\r\n",
        "\r\n",
        "* Enough knowledge to create a simple Neural Network Classifier project\r\n",
        "\r\n",
        "\r\n"
      ]
    },
    {
      "cell_type": "markdown",
      "metadata": {
        "id": "xpRL6qQwT3xI"
      },
      "source": [
        "## [Project Overview](https://docs.google.com/document/d/1Tr2lJAb-pyDrMcIw-nN-AixGDA0GeqeA1c2LxZVBPRw/edit?usp=sharing)"
      ]
    },
    {
      "cell_type": "markdown",
      "metadata": {
        "id": "jYysdyb-CaWM"
      },
      "source": [
        "# Part 1. \r\n",
        "## How to build a neural network to classify clothing items in the Fashion MNIST dataset\r\n",
        "This is a modified version of the original [TensorFlow tutorial](https://www.tensorflow.org/tutorials/keras/classification)."
      ]
    },
    {
      "cell_type": "markdown",
      "metadata": {
        "id": "FbVhjPpzn6BM"
      },
      "source": [
        "This guide shows you how to train a neural network model to classify images of clothing, like sneakers and shirts. It's okay if you don't understand all the details; this is a fast-paced overview of a complete TensorFlow program with the details explained as you go.\n",
        "\n",
        "This guide uses [tf.keras](https://www.tensorflow.org/guide/keras), a high-level API to build and train models in TensorFlow."
      ]
    },
    {
      "cell_type": "markdown",
      "metadata": {
        "id": "yR0EdgrLCaWR"
      },
      "source": [
        "## 1. Import the Fashion MNIST dataset"
      ]
    },
    {
      "cell_type": "markdown",
      "metadata": {
        "id": "DLdCchMdCaWQ"
      },
      "source": [
        "We'll work with the [Fashion MNIST](https://github.com/zalandoresearch/fashion-mnist) dataset which contains 70,000 grayscale images in 10 categories. The images show individual articles of clothing at low resolution (28 by 28 pixels), as seen here:\n",
        "\n",
        "<table>\n",
        "  <tr><td>\n",
        "    <img src=\"https://tensorflow.org/images/fashion-mnist-sprite.png\"\n",
        "         alt=\"Fashion MNIST sprite\"  width=\"600\">\n",
        "  </td></tr>\n",
        "  <tr><td align=\"center\">\n",
        "    <b>Figure 1.</b> <a href=\"https://github.com/zalandoresearch/fashion-mnist\">Fashion-MNIST samples</a> (by Zalando, MIT License).<br/>&nbsp;\n",
        "  </td></tr>\n",
        "</table>\n",
        "\n",
        "Fashion MNIST is intended as a drop-in replacement for the classic [MNIST](http://yann.lecun.com/exdb/mnist/) dataset—often used as the \"Hello, World\" of machine learning programs for computer vision. The MNIST dataset contains images of handwritten digits (0, 1, 2, etc.) in a format identical to that of the articles of clothing you'll use here.\n",
        "\n",
        "This guide uses Fashion MNIST for variety, and because it's a slightly more challenging problem than regular MNIST. Both datasets are relatively small and are used to verify that an algorithm works as expected. They're good starting points to test and debug code.\n",
        "\n",
        "Here, 60,000 images are used to *train* the network and 10,000 images to *evaluate* how accurately the network learned to classify images. You can access the Fashion MNIST directly from TensorFlow. Import and load the Fashion MNIST data directly from TensorFlow:"
      ]
    },
    {
      "cell_type": "code",
      "metadata": {
        "id": "dzLKpmZICaWN",
        "colab": {
          "base_uri": "https://localhost:8080/"
        },
        "outputId": "c3012034-67ed-48e8-c0b6-f9cd0cb01355"
      },
      "source": [
        "# TensorFlow and tf.keras\n",
        "import tensorflow as tf\n",
        "\n",
        "# Helper libraries\n",
        "import numpy as np\n",
        "import matplotlib.pyplot as plt\n",
        "\n",
        "print(tf.__version__)"
      ],
      "execution_count": 3,
      "outputs": [
        {
          "output_type": "stream",
          "text": [
            "2.4.0\n"
          ],
          "name": "stdout"
        }
      ]
    },
    {
      "cell_type": "code",
      "metadata": {
        "id": "7MqDQO0KCaWS",
        "colab": {
          "base_uri": "https://localhost:8080/"
        },
        "outputId": "5718aaf8-1460-4201-bf44-bea7890177c1"
      },
      "source": [
        "fashion_mnist = tf.keras.datasets.fashion_mnist\n",
        "\n",
        "(train_images, train_labels), (test_images, test_labels) = fashion_mnist.load_data()"
      ],
      "execution_count": 4,
      "outputs": [
        {
          "output_type": "stream",
          "text": [
            "Downloading data from https://storage.googleapis.com/tensorflow/tf-keras-datasets/train-labels-idx1-ubyte.gz\n",
            "32768/29515 [=================================] - 0s 0us/step\n",
            "Downloading data from https://storage.googleapis.com/tensorflow/tf-keras-datasets/train-images-idx3-ubyte.gz\n",
            "26427392/26421880 [==============================] - 0s 0us/step\n",
            "Downloading data from https://storage.googleapis.com/tensorflow/tf-keras-datasets/t10k-labels-idx1-ubyte.gz\n",
            "8192/5148 [===============================================] - 0s 0us/step\n",
            "Downloading data from https://storage.googleapis.com/tensorflow/tf-keras-datasets/t10k-images-idx3-ubyte.gz\n",
            "4423680/4422102 [==============================] - 0s 0us/step\n"
          ],
          "name": "stdout"
        }
      ]
    },
    {
      "cell_type": "code",
      "metadata": {
        "colab": {
          "base_uri": "https://localhost:8080/"
        },
        "id": "D_tRRcdU-6T-",
        "outputId": "96ba2428-059a-492e-8c77-2c0168ec697b"
      },
      "source": [
        "print(train_images.shape)\r\n",
        "print(train_labels.shape)\r\n",
        "print(train_labels[0:10])"
      ],
      "execution_count": 5,
      "outputs": [
        {
          "output_type": "stream",
          "text": [
            "(60000, 28, 28)\n",
            "(60000,)\n",
            "[9 0 0 3 0 2 7 2 5 5]\n"
          ],
          "name": "stdout"
        }
      ]
    },
    {
      "cell_type": "markdown",
      "metadata": {
        "id": "t9FDsUlxCaWW"
      },
      "source": [
        "Loading the dataset returns four NumPy arrays:\n",
        "\n",
        "* The `train_images` and `train_labels` arrays are the *training set*—the data the model uses to learn.\n",
        "* The model is tested against the *test set*, the `test_images`, and `test_labels` arrays.\n",
        "\n",
        "The images are 28x28 NumPy arrays, with pixel values ranging from 0 to 255. The *labels* are an array of integers, ranging from 0 to 9. These correspond to the *class* of clothing the image represents:\n",
        "\n",
        "<table>\n",
        "  <tr>\n",
        "    <th>Label</th>\n",
        "    <th>Class</th>\n",
        "  </tr>\n",
        "  <tr>\n",
        "    <td>0</td>\n",
        "    <td>T-shirt/top</td>\n",
        "  </tr>\n",
        "  <tr>\n",
        "    <td>1</td>\n",
        "    <td>Trouser</td>\n",
        "  </tr>\n",
        "    <tr>\n",
        "    <td>2</td>\n",
        "    <td>Pullover</td>\n",
        "  </tr>\n",
        "    <tr>\n",
        "    <td>3</td>\n",
        "    <td>Dress</td>\n",
        "  </tr>\n",
        "    <tr>\n",
        "    <td>4</td>\n",
        "    <td>Coat</td>\n",
        "  </tr>\n",
        "    <tr>\n",
        "    <td>5</td>\n",
        "    <td>Sandal</td>\n",
        "  </tr>\n",
        "    <tr>\n",
        "    <td>6</td>\n",
        "    <td>Shirt</td>\n",
        "  </tr>\n",
        "    <tr>\n",
        "    <td>7</td>\n",
        "    <td>Sneaker</td>\n",
        "  </tr>\n",
        "    <tr>\n",
        "    <td>8</td>\n",
        "    <td>Bag</td>\n",
        "  </tr>\n",
        "    <tr>\n",
        "    <td>9</td>\n",
        "    <td>Ankle boot</td>\n",
        "  </tr>\n",
        "</table>\n",
        "\n",
        "Each image is mapped to a single label. Since the *class names* are not included with the dataset, store them here to use later when plotting the images:"
      ]
    },
    {
      "cell_type": "code",
      "metadata": {
        "id": "IjnLH5S2CaWx"
      },
      "source": [
        "class_names = ['T-shirt/top', 'Trouser', 'Pullover', 'Dress', 'Coat',\n",
        "               'Sandal', 'Shirt', 'Sneaker', 'Bag', 'Ankle boot']"
      ],
      "execution_count": 6,
      "outputs": []
    },
    {
      "cell_type": "markdown",
      "metadata": {
        "id": "Brm0b_KACaWX"
      },
      "source": [
        "## 2. Explore the data\n",
        "\n",
        "Let's explore the format of the dataset before training the model. The following shows there are 60,000 images in the training set, with each image represented as 28 x 28 pixels:"
      ]
    },
    {
      "cell_type": "code",
      "metadata": {
        "id": "zW5k_xz1CaWX",
        "colab": {
          "base_uri": "https://localhost:8080/"
        },
        "outputId": "1ddefd27-286c-4d72-deb8-af762262edf7"
      },
      "source": [
        "train_images.shape"
      ],
      "execution_count": 7,
      "outputs": [
        {
          "output_type": "execute_result",
          "data": {
            "text/plain": [
              "(60000, 28, 28)"
            ]
          },
          "metadata": {
            "tags": []
          },
          "execution_count": 7
        }
      ]
    },
    {
      "cell_type": "markdown",
      "metadata": {
        "id": "cIAcvQqMCaWf"
      },
      "source": [
        "Likewise, there are 60,000 labels in the training set:"
      ]
    },
    {
      "cell_type": "code",
      "metadata": {
        "id": "TRFYHB2mCaWb",
        "colab": {
          "base_uri": "https://localhost:8080/"
        },
        "outputId": "86f4eeae-8666-4af4-945b-99217593f87c"
      },
      "source": [
        "len(train_labels)"
      ],
      "execution_count": 8,
      "outputs": [
        {
          "output_type": "execute_result",
          "data": {
            "text/plain": [
              "60000"
            ]
          },
          "metadata": {
            "tags": []
          },
          "execution_count": 8
        }
      ]
    },
    {
      "cell_type": "markdown",
      "metadata": {
        "id": "YSlYxFuRCaWk"
      },
      "source": [
        "Each label is an integer between 0 and 9:"
      ]
    },
    {
      "cell_type": "code",
      "metadata": {
        "id": "XKnCTHz4CaWg",
        "colab": {
          "base_uri": "https://localhost:8080/"
        },
        "outputId": "08faac85-6b36-4101-af88-51fea876f7b0"
      },
      "source": [
        "np.unique(train_labels)"
      ],
      "execution_count": 9,
      "outputs": [
        {
          "output_type": "execute_result",
          "data": {
            "text/plain": [
              "array([0, 1, 2, 3, 4, 5, 6, 7, 8, 9], dtype=uint8)"
            ]
          },
          "metadata": {
            "tags": []
          },
          "execution_count": 9
        }
      ]
    },
    {
      "cell_type": "markdown",
      "metadata": {
        "id": "TMPI88iZpO2T"
      },
      "source": [
        "There are 10,000 images in the test set. Again, each image is represented as 28 x 28 pixels:"
      ]
    },
    {
      "cell_type": "code",
      "metadata": {
        "id": "2KFnYlcwCaWl",
        "colab": {
          "base_uri": "https://localhost:8080/"
        },
        "outputId": "c608dfa4-8b38-4b53-8b50-f9e6cad4a72b"
      },
      "source": [
        "test_images.shape"
      ],
      "execution_count": 10,
      "outputs": [
        {
          "output_type": "execute_result",
          "data": {
            "text/plain": [
              "(10000, 28, 28)"
            ]
          },
          "metadata": {
            "tags": []
          },
          "execution_count": 10
        }
      ]
    },
    {
      "cell_type": "markdown",
      "metadata": {
        "id": "rd0A0Iu0CaWq"
      },
      "source": [
        "And the test set contains 10,000 images labels:"
      ]
    },
    {
      "cell_type": "code",
      "metadata": {
        "id": "iJmPr5-ACaWn",
        "colab": {
          "base_uri": "https://localhost:8080/"
        },
        "outputId": "0fffe4b9-943a-4402-c640-dcc2efc17323"
      },
      "source": [
        "len(test_labels)"
      ],
      "execution_count": 11,
      "outputs": [
        {
          "output_type": "execute_result",
          "data": {
            "text/plain": [
              "10000"
            ]
          },
          "metadata": {
            "tags": []
          },
          "execution_count": 11
        }
      ]
    },
    {
      "cell_type": "markdown",
      "metadata": {
        "id": "ES6uQoLKCaWr"
      },
      "source": [
        "## 3. Preprocess the data\n",
        "\n",
        "The data must be preprocessed before training the network. If you inspect the first image in the training set, you will see that the pixel values fall in the range of 0 to 255:"
      ]
    },
    {
      "cell_type": "code",
      "metadata": {
        "id": "m4VEw8Ud9Quh",
        "colab": {
          "base_uri": "https://localhost:8080/",
          "height": 265
        },
        "outputId": "3499e267-b2e5-4a6e-e2dd-46fc5a74497b"
      },
      "source": [
        "plt.figure()\n",
        "plt.imshow(train_images[50000])\n",
        "plt.colorbar()\n",
        "plt.grid(False)\n",
        "plt.show()"
      ],
      "execution_count": 12,
      "outputs": [
        {
          "output_type": "display_data",
          "data": {
            "image/png": "[encoded data removed]",
            "text/plain": [
              "<Figure size 432x288 with 2 Axes>"
            ]
          },
          "metadata": {
            "tags": [],
            "needs_background": "light"
          }
        }
      ]
    },
    {
      "cell_type": "markdown",
      "metadata": {
        "id": "Wz7l27Lz9S1P"
      },
      "source": [
        "Scale these values to a range of 0 to 1 before feeding them to the neural network model. To do so, divide the values by 255. It's important that the *training set* and the *testing set* be preprocessed in the same way:"
      ]
    },
    {
      "cell_type": "code",
      "metadata": {
        "id": "bW5WzIPlCaWv"
      },
      "source": [
        "train_images = train_images / 255.0\n",
        "\n",
        "test_images = test_images / 255.0"
      ],
      "execution_count": 13,
      "outputs": []
    },
    {
      "cell_type": "markdown",
      "metadata": {
        "id": "Ee638AlnCaWz"
      },
      "source": [
        "To verify that the data is in the correct format and that you're ready to build and train the network, let's display the first 25 images from the *training set* and display the class name below each image."
      ]
    },
    {
      "cell_type": "code",
      "metadata": {
        "id": "oZTImqg_CaW1",
        "colab": {
          "base_uri": "https://localhost:8080/",
          "height": 589
        },
        "outputId": "6052e403-ab6d-4cbf-d2c2-6dab0a9387d0"
      },
      "source": [
        "plt.figure(figsize=(10,10))\n",
        "for i in range(25):\n",
        "    plt.subplot(5,5,i+1)\n",
        "    plt.xticks([])\n",
        "    plt.yticks([])\n",
        "    plt.grid(False)\n",
        "    plt.imshow(train_images[i], cmap=plt.cm.binary)\n",
        "    plt.xlabel(class_names[train_labels[i]])\n",
        "plt.show()"
      ],
      "execution_count": 14,
      "outputs": [
        {
          "output_type": "display_data",
          "data": {
            "image/png": "[encoded data removed]",
            "text/plain": [
              "<Figure size 720x720 with 25 Axes>"
            ]
          },
          "metadata": {
            "tags": []
          }
        }
      ]
    },
    {
      "cell_type": "markdown",
      "metadata": {
        "id": "59veuiEZCaW4"
      },
      "source": [
        "## 4. Build the neural network model\n",
        "\n",
        "Building the neural network requires configuring the layers of the model, then compiling the model."
      ]
    },
    {
      "cell_type": "markdown",
      "metadata": {
        "id": "Gxg1XGm0eOBy"
      },
      "source": [
        "### Set up the layers\n",
        "\n",
        "The basic building block of a neural network is the *layer*. Layers extract representations from the data fed into them. Hopefully, these representations are meaningful for the problem at hand.\n",
        "\n",
        "Most of deep learning consists of chaining together simple layers. Most layers, such as `tf.keras.layers.Dense`, have parameters that are learned during training."
      ]
    },
    {
      "cell_type": "code",
      "metadata": {
        "id": "9ODch-OFCaW4"
      },
      "source": [
        "model = tf.keras.Sequential([\n",
        "    tf.keras.layers.Flatten(input_shape=(28, 28)),\n",
        "    tf.keras.layers.Dense(128, activation='relu'),\n",
        "    tf.keras.layers.Dense(10)\n",
        "])"
      ],
      "execution_count": 81,
      "outputs": []
    },
    {
      "cell_type": "markdown",
      "metadata": {
        "id": "gut8A_7rCaW6"
      },
      "source": [
        "The first layer in this network, `tf.keras.layers.Flatten`, transforms the format of the images from a two-dimensional array (of 28 by 28 pixels) to a one-dimensional array (of 28 * 28 = 784 pixels). Think of this layer as unstacking rows of pixels in the image and lining them up. This layer has no parameters to learn; it only reformats the data.\n",
        "\n",
        "After the pixels are flattened, the network consists of a sequence of two `tf.keras.layers.Dense` layers. These are densely connected, or fully connected, neural layers. The first `Dense` layer has 128 nodes (or neurons). The second (and last) layer returns a logits array with length of 10. Each node contains a score that indicates the current image belongs to one of the 10 classes.\n",
        "\n",
        "### Compile the model\n",
        "\n",
        "Before the model is ready for training, it needs a few more settings. These are added during the model's *compile* step:\n",
        "\n",
        "* *Loss function* —This measures how accurate the model is during training. You want to minimize this function to \"steer\" the model in the right direction.\n",
        "* *Optimizer* —This is how the model is updated based on the data it sees in order to find the minimum of the loss function.\n",
        "* *Metrics* —Used to monitor the training and testing steps. The following example uses *accuracy*, the fraction of the images that are correctly classified."
      ]
    },
    {
      "cell_type": "code",
      "metadata": {
        "id": "Lhan11blCaW7"
      },
      "source": [
        "model.compile(optimizer='adam',\n",
        "              loss=tf.keras.losses.SparseCategoricalCrossentropy(from_logits=True),\n",
        "              metrics=['accuracy'])"
      ],
      "execution_count": 82,
      "outputs": []
    },
    {
      "cell_type": "markdown",
      "metadata": {
        "id": "qKF6uW-BCaW-"
      },
      "source": [
        "## 5. Train the model\n",
        "\n",
        "Training the neural network model requires the following steps:\n",
        "\n",
        "1. Feed the training data to the model. In this example, the *training* data is in the `train_images` and `train_labels` arrays.\n",
        "2. The model learns from the training data to associate images and labels.\n",
        "3. You ask the model to make predictions about a *test* set—in this example, the `test_images` array. Given an image (say of an `ankle boot`, or a `dress`), the model does its best to predict the right label.\n",
        "4. Check how well the predictions match the labels from the `test_labels` array.\n"
      ]
    },
    {
      "cell_type": "markdown",
      "metadata": {
        "id": "Z4P4zIV7E28Z"
      },
      "source": [
        "### Fit the model to the data\n",
        "\n",
        "To start training,  call the `model.fit` method—so called because it \"fits\" the model to the training data:"
      ]
    },
    {
      "cell_type": "code",
      "metadata": {
        "id": "xvwvpA64CaW_",
        "colab": {
          "base_uri": "https://localhost:8080/"
        },
        "outputId": "597a3237-f59c-43fd-8eec-969a9c256f29"
      },
      "source": [
        "model.fit(train_images, train_labels, epochs=10)"
      ],
      "execution_count": 37,
      "outputs": [
        {
          "output_type": "stream",
          "text": [
            "Epoch 1/10\n",
            "1875/1875 [==============================] - 5s 3ms/step - loss: 0.5979 - accuracy: 0.7924\n",
            "Epoch 2/10\n",
            "1875/1875 [==============================] - 5s 3ms/step - loss: 0.3757 - accuracy: 0.8623\n",
            "Epoch 3/10\n",
            "1875/1875 [==============================] - 5s 3ms/step - loss: 0.3377 - accuracy: 0.8759\n",
            "Epoch 4/10\n",
            "1875/1875 [==============================] - 5s 3ms/step - loss: 0.2975 - accuracy: 0.8908\n",
            "Epoch 5/10\n",
            "1875/1875 [==============================] - 5s 3ms/step - loss: 0.2857 - accuracy: 0.8934\n",
            "Epoch 6/10\n",
            "1875/1875 [==============================] - 5s 3ms/step - loss: 0.2740 - accuracy: 0.8982\n",
            "Epoch 7/10\n",
            "1875/1875 [==============================] - 5s 3ms/step - loss: 0.2611 - accuracy: 0.9018\n",
            "Epoch 8/10\n",
            "1875/1875 [==============================] - 5s 3ms/step - loss: 0.2475 - accuracy: 0.9065\n",
            "Epoch 9/10\n",
            "1875/1875 [==============================] - 5s 3ms/step - loss: 0.2348 - accuracy: 0.9141\n",
            "Epoch 10/10\n",
            "1875/1875 [==============================] - 5s 3ms/step - loss: 0.2251 - accuracy: 0.9166\n"
          ],
          "name": "stdout"
        },
        {
          "output_type": "execute_result",
          "data": {
            "text/plain": [
              "<tensorflow.python.keras.callbacks.History at 0x7f03beca9470>"
            ]
          },
          "metadata": {
            "tags": []
          },
          "execution_count": 37
        }
      ]
    },
    {
      "cell_type": "markdown",
      "metadata": {
        "id": "W3ZVOhugCaXA"
      },
      "source": [
        "As the model trains, the *loss* and *accuracy* metrics are displayed. <br>\r\n",
        "Remember that during training, the model figures out how to minimize the *loss* function -- which maximizes its ability to predict labels for each image. <br> \r\n",
        "On the other hand, *accuracy* is a more intuitive measure of how well the model can predict image labels.<br>\r\n",
        "This model reaches an accuracy of about 0.91 (or 91%) on the training data."
      ]
    },
    {
      "cell_type": "markdown",
      "metadata": {
        "id": "wCpr6DGyE28h"
      },
      "source": [
        "### Evaluate the accuracy\n",
        "\n",
        "Next, compare how the model performs on the *test* dataset:"
      ]
    },
    {
      "cell_type": "code",
      "metadata": {
        "id": "VflXLEeECaXC",
        "colab": {
          "base_uri": "https://localhost:8080/"
        },
        "outputId": "b685da97-10b6-47e0-aa04-6278b9ca096b"
      },
      "source": [
        "test_loss, test_acc = model.evaluate(test_images,  test_labels, verbose=2)\n",
        "\n",
        "print('\\nTest accuracy:', test_acc)"
      ],
      "execution_count": 38,
      "outputs": [
        {
          "output_type": "stream",
          "text": [
            "313/313 - 0s - loss: 0.3496 - accuracy: 0.8794\n",
            "\n",
            "Test accuracy: 0.8794000148773193\n"
          ],
          "name": "stdout"
        }
      ]
    },
    {
      "cell_type": "markdown",
      "metadata": {
        "id": "yWfgsmVXCaXG"
      },
      "source": [
        "It turns out that the accuracy on the test dataset is a little less than the accuracy on the training dataset. This gap between training accuracy and test accuracy represents *overfitting*. Overfitting happens when a machine learning model performs worse on new, previously unseen inputs than it does on the training data. An overfitted model \"memorizes\" the noise and details in the training dataset to a point where it negatively impacts the performance of the model on the new data. For more information, see the following:\n",
        "*   [Demonstrate overfitting](https://www.tensorflow.org/tutorials/keras/overfit_and_underfit#demonstrate_overfitting)\n",
        "*   [Strategies to prevent overfitting](https://www.tensorflow.org/tutorials/keras/overfit_and_underfit#strategies_to_prevent_overfitting)"
      ]
    },
    {
      "cell_type": "markdown",
      "metadata": {
        "id": "v-PyD1SYE28q"
      },
      "source": [
        "### Make predictions\n",
        "\n",
        "The label prediction comes from the model's 10 linear outputs, which are called [logits](https://developers.google.com/machine-learning/glossary#logits). <br>\n",
        "\n",
        "Remember that there is one output for each of the ten image classes, and that the mapping of output positions to labels is<br>\n",
        "'0': 'T-shirt/top'<br>\n",
        "'1': 'Trouser'<br>\n",
        "'2': 'Pullover'<br>\n",
        "'3': 'Dress'<br>\n",
        "'4': 'Coat'<br>\n",
        "'5': 'Sandal'<br>\n",
        "'6': 'Shirt'<br>\n",
        "'7': 'Sneaker'<br>\n",
        "'8': 'Bag'<br>\n",
        "'9': 'Ankle boot'<br>\n",
        "\n",
        "As we might expect, the output with the highest *logit* value corresponds to the class label prediction of the model. <br>\n",
        "\n",
        "So if, for a given image, the 3rd logit output is highest, the label prediction is 'Pullover'\n",
        "\n",
        "We can make our model more interpretable by converting the *logit* outputs to *probabilities*, which tell us how confident our model is in assigning a label for each class. <br>\n",
        "\n",
        "To accomplish this conversion of logits to class probabilites we add on a `softmax layer`."
      ]
    },
    {
      "cell_type": "code",
      "metadata": {
        "id": "DnfNA0CrQLSD"
      },
      "source": [
        "probability_model = tf.keras.Sequential([model, \n",
        "                                         tf.keras.layers.Softmax()])"
      ],
      "execution_count": null,
      "outputs": []
    },
    {
      "cell_type": "code",
      "metadata": {
        "id": "Gl91RPhdCaXI"
      },
      "source": [
        "predictions = probability_model.predict(test_images)"
      ],
      "execution_count": null,
      "outputs": []
    },
    {
      "cell_type": "markdown",
      "metadata": {
        "id": "x9Kk1voUCaXJ"
      },
      "source": [
        "Here, the model has predicted the label for each image in the testing set. Let's take a look at the first prediction:"
      ]
    },
    {
      "cell_type": "code",
      "metadata": {
        "id": "3DmJEUinCaXK",
        "colab": {
          "base_uri": "https://localhost:8080/"
        },
        "outputId": "ac2db296-4b09-4461-878a-417df194d45a"
      },
      "source": [
        "predictions[0]"
      ],
      "execution_count": null,
      "outputs": [
        {
          "output_type": "execute_result",
          "data": {
            "text/plain": [
              "array([5.0232341e-28, 4.5562902e-14, 0.0000000e+00, 2.1758952e-13,\n",
              "       0.0000000e+00, 2.0543188e-03, 0.0000000e+00, 2.8440684e-02,\n",
              "       4.7418964e-14, 9.6950501e-01], dtype=float32)"
            ]
          },
          "metadata": {
            "tags": []
          },
          "execution_count": 21
        }
      ]
    },
    {
      "cell_type": "markdown",
      "metadata": {
        "id": "-hw1hgeSCaXN"
      },
      "source": [
        "A prediction is an array of 10 numbers. They represent the model's \"confidence\" that the image corresponds to each of the 10 different articles of clothing. You can see which label has the highest confidence value:"
      ]
    },
    {
      "cell_type": "code",
      "metadata": {
        "id": "qsqenuPnCaXO",
        "colab": {
          "base_uri": "https://localhost:8080/"
        },
        "outputId": "e0ed608c-a450-4db8-b1e2-0d7cee8c8a49"
      },
      "source": [
        "np.argmax(predictions[0])"
      ],
      "execution_count": null,
      "outputs": [
        {
          "output_type": "execute_result",
          "data": {
            "text/plain": [
              "9"
            ]
          },
          "metadata": {
            "tags": []
          },
          "execution_count": 22
        }
      ]
    },
    {
      "cell_type": "markdown",
      "metadata": {
        "id": "E51yS7iCCaXO"
      },
      "source": [
        "So, the model is most confident that this image is an ankle boot, or `class_names[9]`. Examining the test label shows that this classification is correct:"
      ]
    },
    {
      "cell_type": "code",
      "metadata": {
        "id": "Sd7Pgsu6CaXP",
        "colab": {
          "base_uri": "https://localhost:8080/"
        },
        "outputId": "aa6792b0-98ce-468a-c7f6-723121306aed"
      },
      "source": [
        "test_labels[0]"
      ],
      "execution_count": null,
      "outputs": [
        {
          "output_type": "execute_result",
          "data": {
            "text/plain": [
              "9"
            ]
          },
          "metadata": {
            "tags": []
          },
          "execution_count": 23
        }
      ]
    },
    {
      "cell_type": "markdown",
      "metadata": {
        "id": "ygh2yYC972ne"
      },
      "source": [
        "Graph this to look at the full set of 10 class predictions."
      ]
    },
    {
      "cell_type": "code",
      "metadata": {
        "id": "DvYmmrpIy6Y1"
      },
      "source": [
        "def plot_image(i, predictions_array, true_label, img):\n",
        "  true_label, img = true_label[i], img[i]\n",
        "  plt.grid(False)\n",
        "  plt.xticks([])\n",
        "  plt.yticks([])\n",
        "\n",
        "  plt.imshow(img, cmap=plt.cm.binary)\n",
        "\n",
        "  predicted_label = np.argmax(predictions_array)\n",
        "  if predicted_label == true_label:\n",
        "    color = 'blue'\n",
        "  else:\n",
        "    color = 'red'\n",
        "\n",
        "  plt.xlabel(\"{} {:2.0f}% ({})\".format(class_names[predicted_label],\n",
        "                                100*np.max(predictions_array),\n",
        "                                class_names[true_label]),\n",
        "                                color=color)\n",
        "\n",
        "def plot_value_array(i, predictions_array, true_label):\n",
        "  true_label = true_label[i]\n",
        "  plt.grid(False)\n",
        "  plt.xticks(range(10))\n",
        "  plt.yticks([])\n",
        "  thisplot = plt.bar(range(10), predictions_array, color=\"#777777\")\n",
        "  plt.ylim([0, 1])\n",
        "  predicted_label = np.argmax(predictions_array)\n",
        "\n",
        "  thisplot[predicted_label].set_color('red')\n",
        "  thisplot[true_label].set_color('blue')"
      ],
      "execution_count": null,
      "outputs": []
    },
    {
      "cell_type": "markdown",
      "metadata": {
        "id": "Zh9yABaME29S"
      },
      "source": [
        "### Verify predictions on unseen test images\n",
        "\n",
        "With the trained model, you can predict labels for any images from the test set.<br>"
      ]
    },
    {
      "cell_type": "markdown",
      "metadata": {
        "id": "d4Ov9OFDMmOD"
      },
      "source": [
        "Let's look at the 0th image, predictions, and prediction array. Correct prediction labels are blue and incorrect prediction labels are red. The number gives the percentage (out of 100) for the predicted label."
      ]
    },
    {
      "cell_type": "code",
      "metadata": {
        "id": "HV5jw-5HwSmO",
        "colab": {
          "base_uri": "https://localhost:8080/",
          "height": 211
        },
        "outputId": "f56e4b46-0c90-4e49-c6c2-ce20d545791a"
      },
      "source": [
        "i = 0\n",
        "plt.figure(figsize=(6,3))\n",
        "plt.subplot(1,2,1)\n",
        "plot_image(i, predictions[i], test_labels, test_images)\n",
        "plt.subplot(1,2,2)\n",
        "plot_value_array(i, predictions[i],  test_labels)\n",
        "plt.show()"
      ],
      "execution_count": null,
      "outputs": [
        {
          "output_type": "display_data",
          "data": {
            "image/png": "[encoded data removed]",
            "text/plain": [
              "<Figure size 432x216 with 2 Axes>"
            ]
          },
          "metadata": {
            "tags": [],
            "needs_background": "light"
          }
        }
      ]
    },
    {
      "cell_type": "code",
      "metadata": {
        "id": "Ko-uzOufSCSe",
        "colab": {
          "base_uri": "https://localhost:8080/",
          "height": 211
        },
        "outputId": "6ce4637b-30b5-4e68-d6b5-3287a3c614db"
      },
      "source": [
        "i = 12\n",
        "plt.figure(figsize=(6,3))\n",
        "plt.subplot(1,2,1)\n",
        "plot_image(i, predictions[i], test_labels, test_images)\n",
        "plt.subplot(1,2,2)\n",
        "plot_value_array(i, predictions[i],  test_labels)\n",
        "plt.show()"
      ],
      "execution_count": null,
      "outputs": [
        {
          "output_type": "display_data",
          "data": {
            "image/png": "[encoded data removed]",
            "text/plain": [
              "<Figure size 432x216 with 2 Axes>"
            ]
          },
          "metadata": {
            "tags": [],
            "needs_background": "light"
          }
        }
      ]
    },
    {
      "cell_type": "markdown",
      "metadata": {
        "id": "kgdvGD52CaXR"
      },
      "source": [
        "Let's plot several images with their predictions. Note that the model can be wrong even when very confident."
      ]
    },
    {
      "cell_type": "code",
      "metadata": {
        "id": "hQlnbqaw2Qu_",
        "colab": {
          "base_uri": "https://localhost:8080/",
          "height": 729
        },
        "outputId": "767ed970-d7d2-43d1-b3fc-d6668f7cb84c"
      },
      "source": [
        "# Plot the first X test images, their predicted labels, and the true labels.\n",
        "# Color correct predictions in blue and incorrect predictions in red.\n",
        "num_rows = 5\n",
        "num_cols = 3\n",
        "num_images = num_rows*num_cols\n",
        "plt.figure(figsize=(2*2*num_cols, 2*num_rows))\n",
        "for i in range(num_images):\n",
        "  plt.subplot(num_rows, 2*num_cols, 2*i+1)\n",
        "  plot_image(i, predictions[i], test_labels, test_images)\n",
        "  plt.subplot(num_rows, 2*num_cols, 2*i+2)\n",
        "  plot_value_array(i, predictions[i], test_labels)\n",
        "plt.tight_layout()\n",
        "plt.show()"
      ],
      "execution_count": null,
      "outputs": [
        {
          "output_type": "display_data",
          "data": {
            "image/png": "[encoded data removed]",
            "text/plain": [
              "<Figure size 864x720 with 30 Axes>"
            ]
          },
          "metadata": {
            "tags": [],
            "needs_background": "light"
          }
        }
      ]
    },
    {
      "cell_type": "markdown",
      "metadata": {
        "id": "R32zteKHCaXT"
      },
      "source": [
        "## 6. Use the trained model\n",
        "\n",
        "Finally, use the trained model to make a prediction about a single test image."
      ]
    },
    {
      "cell_type": "code",
      "metadata": {
        "id": "yRJ7JU7JCaXT",
        "colab": {
          "base_uri": "https://localhost:8080/"
        },
        "outputId": "607a299f-db27-4b2f-f464-2f363c525a0d"
      },
      "source": [
        "# Grab an image from the test dataset.\n",
        "img = test_images[1]\n",
        "\n",
        "print(img.shape)"
      ],
      "execution_count": null,
      "outputs": [
        {
          "output_type": "stream",
          "text": [
            "(28, 28)\n"
          ],
          "name": "stdout"
        }
      ]
    },
    {
      "cell_type": "markdown",
      "metadata": {
        "id": "vz3bVp21CaXV"
      },
      "source": [
        "`tf.keras` models are optimized to make predictions on a *batch*, or collection, of examples at once. Accordingly, even though you're using a single image, you need to add it to a list:"
      ]
    },
    {
      "cell_type": "code",
      "metadata": {
        "id": "lDFh5yF_CaXW",
        "colab": {
          "base_uri": "https://localhost:8080/"
        },
        "outputId": "8a3a6b85-0ded-4a0c-cab2-0b18128fafbf"
      },
      "source": [
        "# Add the image to a batch where it's the only member.\n",
        "img = (np.expand_dims(img,0))\n",
        "\n",
        "print(img.shape)"
      ],
      "execution_count": null,
      "outputs": [
        {
          "output_type": "stream",
          "text": [
            "(1, 28, 28)\n"
          ],
          "name": "stdout"
        }
      ]
    },
    {
      "cell_type": "markdown",
      "metadata": {
        "id": "EQ5wLTkcCaXY"
      },
      "source": [
        "Now predict the correct label for this image:"
      ]
    },
    {
      "cell_type": "code",
      "metadata": {
        "id": "o_rzNSdrCaXY",
        "colab": {
          "base_uri": "https://localhost:8080/"
        },
        "outputId": "e39d106b-3ae7-4087-8ca0-9d033d5ceceb"
      },
      "source": [
        "predictions_single = probability_model.predict(img)\n",
        "\n",
        "print(predictions_single)"
      ],
      "execution_count": null,
      "outputs": [
        {
          "output_type": "stream",
          "text": [
            "[[9.0573989e-03 2.0174193e-04 9.5581400e-01 3.6857519e-04 2.3088241e-02\n",
            "  2.9713950e-16 1.1231382e-02 0.0000000e+00 2.3869645e-04 1.0527523e-22]]\n"
          ],
          "name": "stdout"
        }
      ]
    },
    {
      "cell_type": "code",
      "metadata": {
        "id": "6Ai-cpLjO-3A",
        "colab": {
          "base_uri": "https://localhost:8080/",
          "height": 300
        },
        "outputId": "f38eba17-cf95-4a74-d1a2-6c7a9e9d7f3d"
      },
      "source": [
        "plot_value_array(1, predictions_single[0], test_labels)\n",
        "_ = plt.xticks(range(10), class_names, rotation=45)"
      ],
      "execution_count": null,
      "outputs": [
        {
          "output_type": "display_data",
          "data": {
            "image/png": "[encoded data removed]",
            "text/plain": [
              "<Figure size 432x288 with 1 Axes>"
            ]
          },
          "metadata": {
            "tags": [],
            "needs_background": "light"
          }
        }
      ]
    },
    {
      "cell_type": "markdown",
      "metadata": {
        "id": "cU1Y2OAMCaXb"
      },
      "source": [
        "`tf.keras.Model.predict` returns a list of lists—one list for each image in the batch of data. Grab the predictions for our (only) image in the batch:"
      ]
    },
    {
      "cell_type": "code",
      "metadata": {
        "id": "2tRmdq_8CaXb",
        "colab": {
          "base_uri": "https://localhost:8080/"
        },
        "outputId": "d15561f3-edd5-4212-e239-7bf1ffbd6248"
      },
      "source": [
        "np.argmax(predictions_single[0])"
      ],
      "execution_count": null,
      "outputs": [
        {
          "output_type": "execute_result",
          "data": {
            "text/plain": [
              "2"
            ]
          },
          "metadata": {
            "tags": []
          },
          "execution_count": 34
        }
      ]
    },
    {
      "cell_type": "markdown",
      "metadata": {
        "id": "YFc2HbEVCaXd"
      },
      "source": [
        "And the model predicts a label as expected."
      ]
    },
    {
      "cell_type": "markdown",
      "metadata": {
        "id": "Tr8etJXoiQlj"
      },
      "source": [
        "###You have now learned the pattern of the basic \"Data Science Workflow\"!<br>\r\n",
        "This is the standard approach to any data science problem<br>\r\n",
        "* Get and load data\r\n",
        "* Split data into training, validation, and test data sets\r\n",
        "* No DATA SNOOPING! *Never* look at or examine the test data until after the last step (below), when you evaluate the performance of your FINAL model!\r\n",
        "* Explore and familiarize with the training data\r\n",
        "* Create or select a model\r\n",
        "* Train the model to perform well on the training data\r\n",
        "* Use the trained model to predict on the validation data\r\n",
        "* Improve or tune the model, using the validation data. Finalize the model.\r\n",
        "* Evaluate the performance of the FINAL model on the test data"
      ]
    },
    {
      "cell_type": "markdown",
      "metadata": {
        "id": "GHvTDc5_0Msz"
      },
      "source": [
        "\r\n",
        "# Part 2. Experiments with Fashion MNIST (100 points)<br>\r\n",
        "\r\n",
        "Choose any **two** of the following experiments which are the most interesting to you, and see how the accuracy of the FashionMNIST classifier is affected in each case. <br>\r\n",
        "If it makes sense to do so, predict what you *think* will happen *before* doing the experiment. <br>\r\n",
        "Explain what you think happened *after* doing the experiment. <br>\r\n",
        "Modify this notebook with commented documenting your experiments.<br>\r\n",
        "\r\n",
        "**Experiment #1** *Change the learning rate*<br>\r\n",
        "Look up the `model.fit` method in the keras docs, and figure out how to change the `learning_rate`. Try values of `learning_rate` in [0.1, 0.01, 0.001, 0.0001, 0.00001] and make a plot of how the validation accuracy depends on the learning rate, all other things being the same.<br>\r\n",
        "\r\n",
        "**Experiment #2** *Identify the hard-to-classify items*<br>\r\n",
        "Find out the accuracy of your model as a function of clothing item. Which clothing item was the hardest to classify, i.e. most often misclassified? Were misclassified examples always confused with the same wrong clothing item, or were they confused with more than one other clothing item?  Examine a few misclassified examples of this hardest-to-classify clothing item. See if you can come up with an explanation of why the model has trouble classifying this clothing item?<br>\r\n",
        "\r\n",
        "**Experiment #3** *Add a hidden layer*<br>\r\n",
        "Look up the `model.fit` method in the keras docs, and figure out how to change the number of hidden layers in your model. Add another hidden layer to the model. How does the validation accuracy change?<br>\r\n",
        "\r\n",
        "**Experiment #4** *Change the number of neurons*<br>\r\n",
        "Look up the `model.fit` method in the keras docs, and figure out how to change the number of neurons in the hidden layer of your model. Change the number of neurons in your hidden layer to N, where N is in 32, 64, 256, 512. Determine how the validation accuracy depends on N and display your results in a plot or table.<br>\r\n",
        "\r\n",
        "**Experiment #5** *Change the number of training epochs*<br>\r\n",
        "Change the number N of training epochs systematically with N in [2, 4, 6, 8, 10, 12, 14, 16, 18, 20 ]and keep track of the resulting validation accuracy. At which N does the validation accuracy reach a maximum. Display your results in a plot or table.<br>\r\n",
        "\r\n",
        "**Experiment #6** *Reduce the amount of training data*<br>\r\n",
        "Reduce the number of training data images by N percent, where N is in [5, 10, 20, 40, 50]. How does the validation accuracy depend on N? Display your results in a plot or table.<br>\r\n",
        "\r\n",
        "**Experiment #7** *Data Augmentation*<br>\r\n",
        "Add horizontally \"flipped versions\" of the training images to the training set. How does the validation accuracy of your model change?<br>\r\n",
        "\r\n",
        "**Experiment #8** *Downsample the images*<br>\r\n",
        "Downsample all the images by a factor of 2, and see how the validation accuracy of your model changes.<br>\r\n",
        "\r\n",
        "**Experiment #9** *Add noise to the images*<br>\r\n",
        "Replace a number N of randomly chosen pixels in each training image by random numbers between 0 and 255, for N = 10, 20, 20, 30, 40, 50. How does the validation accuracy depend on N? Display your results in a plot or table.<br>\r\n",
        "\r\n"
      ]
    },
    {
      "cell_type": "markdown",
      "metadata": {
        "id": "YUzwetw8Q7w7"
      },
      "source": [
        "### Explain and document the results of your experiments"
      ]
    },
    {
      "cell_type": "code",
      "metadata": {
        "id": "T6DpCVBd6N6b"
      },
      "source": [
        "# Experiment 4 Change the number of neurons"
      ],
      "execution_count": null,
      "outputs": []
    },
    {
      "cell_type": "markdown",
      "metadata": {
        "id": "qBQfBzbc6SQH"
      },
      "source": [
        "**Prediction** -- The validation accuracy will increase as the number of neurons in the model increases."
      ]
    },
    {
      "cell_type": "code",
      "metadata": {
        "id": "K5pFqDZVQ5vZ"
      },
      "source": [
        "# N=32\n",
        "model = tf.keras.Sequential([\n",
        "    tf.keras.layers.Flatten(input_shape=(28, 28)),\n",
        "    tf.keras.layers.Dense(32, activation='relu'),\n",
        "    tf.keras.layers.Dense(10)\n",
        "])\n",
        "# Validation Accuracy = 0.8698"
      ],
      "execution_count": 15,
      "outputs": []
    },
    {
      "cell_type": "code",
      "metadata": {
        "id": "-FWkLKn73fzS"
      },
      "source": [
        "# N=64\n",
        "model = tf.keras.Sequential([\n",
        "    tf.keras.layers.Flatten(input_shape=(28, 28)),\n",
        "    tf.keras.layers.Dense(64, activation='relu'),\n",
        "    tf.keras.layers.Dense(10)\n",
        "])\n",
        "# Validation Accuracy = 0.8747"
      ],
      "execution_count": 19,
      "outputs": []
    },
    {
      "cell_type": "code",
      "metadata": {
        "id": "WVbWpVND4fqk"
      },
      "source": [
        "# N=128 (Original Value)\n",
        "# Validation Accuracy = 0.8890"
      ],
      "execution_count": null,
      "outputs": []
    },
    {
      "cell_type": "code",
      "metadata": {
        "id": "QSaWSEdw3jqN"
      },
      "source": [
        "# N=256\n",
        "model = tf.keras.Sequential([\n",
        "    tf.keras.layers.Flatten(input_shape=(28, 28)),\n",
        "    tf.keras.layers.Dense(256, activation='relu'),\n",
        "    tf.keras.layers.Dense(10)\n",
        "])\n",
        "# Validation Accuracy = 0.8848"
      ],
      "execution_count": 35,
      "outputs": []
    },
    {
      "cell_type": "code",
      "metadata": {
        "id": "fu1X4-kE3lZP"
      },
      "source": [
        "# N=512\n",
        "model = tf.keras.Sequential([\n",
        "    tf.keras.layers.Flatten(input_shape=(28, 28)),\n",
        "    tf.keras.layers.Dense(512, activation='relu'),\n",
        "    tf.keras.layers.Dense(10)\n",
        "])\n",
        "# Validation Accuracy = 0.8852"
      ],
      "execution_count": 31,
      "outputs": []
    },
    {
      "cell_type": "code",
      "metadata": {
        "id": "17oKalWK8Kws"
      },
      "source": [
        "# Evaluate the accuracy\n",
        "test_loss, test_acc = model.evaluate(test_images,  test_labels, verbose=2)\n",
        "\n",
        "print('\\nTest accuracy:', test_acc)"
      ],
      "execution_count": null,
      "outputs": []
    },
    {
      "cell_type": "markdown",
      "metadata": {
        "id": "_-S25Gve6Cpw"
      },
      "source": [
        "**Conclusion** -- The validation accuracy increased as the number of neurons increased, but capped at 88.90% and actually decreased as the number of neurons increased from 128.\n",
        "\n",
        "---\n",
        "\n"
      ]
    },
    {
      "cell_type": "code",
      "metadata": {
        "id": "hK21VLp_7OFa"
      },
      "source": [
        "# Experiment 5 Change the number of training epochs"
      ],
      "execution_count": null,
      "outputs": []
    },
    {
      "cell_type": "markdown",
      "metadata": {
        "id": "kP_wiyBZ7WkA"
      },
      "source": [
        "**Prediction** -- The validation accuracy will increase as the number of training epochs in the model increases."
      ]
    },
    {
      "cell_type": "code",
      "metadata": {
        "colab": {
          "base_uri": "https://localhost:8080/"
        },
        "id": "2o1N5b4o7hCG",
        "outputId": "3f3a5f34-4895-41ff-da62-d42870feef63"
      },
      "source": [
        "# N=2\n",
        "model.fit(train_images, train_labels, epochs=2)\n",
        "# Validation Accuracy = 0.8666"
      ],
      "execution_count": 51,
      "outputs": [
        {
          "output_type": "stream",
          "text": [
            "Epoch 1/2\n",
            "1875/1875 [==============================] - 4s 2ms/step - loss: 0.6167 - accuracy: 0.7833\n",
            "Epoch 2/2\n",
            "1875/1875 [==============================] - 4s 2ms/step - loss: 0.3896 - accuracy: 0.8595\n"
          ],
          "name": "stdout"
        },
        {
          "output_type": "execute_result",
          "data": {
            "text/plain": [
              "<tensorflow.python.keras.callbacks.History at 0x7f03aed15240>"
            ]
          },
          "metadata": {
            "tags": []
          },
          "execution_count": 51
        }
      ]
    },
    {
      "cell_type": "code",
      "metadata": {
        "colab": {
          "base_uri": "https://localhost:8080/"
        },
        "id": "Y6ZWt_fs7iDU",
        "outputId": "368b39ad-bddb-4157-e3c5-d8aa6831e4ef"
      },
      "source": [
        "# N=4\n",
        "model.fit(train_images, train_labels, epochs=4)\n",
        "# Validation Accuracy = 0.8730"
      ],
      "execution_count": 47,
      "outputs": [
        {
          "output_type": "stream",
          "text": [
            "Epoch 1/4\n",
            "1875/1875 [==============================] - 4s 2ms/step - loss: 0.6272 - accuracy: 0.7831\n",
            "Epoch 2/4\n",
            "1875/1875 [==============================] - 4s 2ms/step - loss: 0.3742 - accuracy: 0.8661\n",
            "Epoch 3/4\n",
            "1875/1875 [==============================] - 4s 2ms/step - loss: 0.3411 - accuracy: 0.8751\n",
            "Epoch 4/4\n",
            "1875/1875 [==============================] - 4s 2ms/step - loss: 0.3129 - accuracy: 0.8842\n"
          ],
          "name": "stdout"
        },
        {
          "output_type": "execute_result",
          "data": {
            "text/plain": [
              "<tensorflow.python.keras.callbacks.History at 0x7f03afe441d0>"
            ]
          },
          "metadata": {
            "tags": []
          },
          "execution_count": 47
        }
      ]
    },
    {
      "cell_type": "code",
      "metadata": {
        "colab": {
          "base_uri": "https://localhost:8080/"
        },
        "id": "PcCPvVGS7iPQ",
        "outputId": "a7c28599-9317-40e6-9725-e7401ae2bc27"
      },
      "source": [
        "# N=6\n",
        "model.fit(train_images, train_labels, epochs=6)\n",
        "# Validation Accuracy = 0.8783"
      ],
      "execution_count": 55,
      "outputs": [
        {
          "output_type": "stream",
          "text": [
            "Epoch 1/6\n",
            "1875/1875 [==============================] - 4s 2ms/step - loss: 0.6312 - accuracy: 0.7783\n",
            "Epoch 2/6\n",
            "1875/1875 [==============================] - 3s 2ms/step - loss: 0.3881 - accuracy: 0.8598\n",
            "Epoch 3/6\n",
            "1875/1875 [==============================] - 3s 2ms/step - loss: 0.3417 - accuracy: 0.8769\n",
            "Epoch 4/6\n",
            "1875/1875 [==============================] - 3s 2ms/step - loss: 0.3171 - accuracy: 0.8839\n",
            "Epoch 5/6\n",
            "1875/1875 [==============================] - 4s 2ms/step - loss: 0.3006 - accuracy: 0.8913\n",
            "Epoch 6/6\n",
            "1875/1875 [==============================] - 3s 2ms/step - loss: 0.2778 - accuracy: 0.8963\n"
          ],
          "name": "stdout"
        },
        {
          "output_type": "execute_result",
          "data": {
            "text/plain": [
              "<tensorflow.python.keras.callbacks.History at 0x7f03adc2a518>"
            ]
          },
          "metadata": {
            "tags": []
          },
          "execution_count": 55
        }
      ]
    },
    {
      "cell_type": "code",
      "metadata": {
        "colab": {
          "base_uri": "https://localhost:8080/"
        },
        "id": "Sux7wSid7ia_",
        "outputId": "125ce054-6e7c-4d8f-e97c-acf57e546ac5"
      },
      "source": [
        "# N=8\n",
        "model.fit(train_images, train_labels, epochs=8)\n",
        "# Validation Accuracy = 0.8791"
      ],
      "execution_count": 59,
      "outputs": [
        {
          "output_type": "stream",
          "text": [
            "Epoch 1/8\n",
            "1875/1875 [==============================] - 4s 2ms/step - loss: 0.6250 - accuracy: 0.7822\n",
            "Epoch 2/8\n",
            "1875/1875 [==============================] - 3s 2ms/step - loss: 0.3867 - accuracy: 0.8619\n",
            "Epoch 3/8\n",
            "1875/1875 [==============================] - 3s 2ms/step - loss: 0.3374 - accuracy: 0.8769\n",
            "Epoch 4/8\n",
            "1875/1875 [==============================] - 3s 2ms/step - loss: 0.3121 - accuracy: 0.8845\n",
            "Epoch 5/8\n",
            "1875/1875 [==============================] - 3s 2ms/step - loss: 0.2930 - accuracy: 0.8905\n",
            "Epoch 6/8\n",
            "1875/1875 [==============================] - 3s 2ms/step - loss: 0.2751 - accuracy: 0.8980\n",
            "Epoch 7/8\n",
            "1875/1875 [==============================] - 3s 2ms/step - loss: 0.2697 - accuracy: 0.9004\n",
            "Epoch 8/8\n",
            "1875/1875 [==============================] - 4s 2ms/step - loss: 0.2551 - accuracy: 0.9072\n"
          ],
          "name": "stdout"
        },
        {
          "output_type": "execute_result",
          "data": {
            "text/plain": [
              "<tensorflow.python.keras.callbacks.History at 0x7f03ad3436d8>"
            ]
          },
          "metadata": {
            "tags": []
          },
          "execution_count": 59
        }
      ]
    },
    {
      "cell_type": "code",
      "metadata": {
        "colab": {
          "base_uri": "https://localhost:8080/"
        },
        "id": "u_CaBMvx7inl",
        "outputId": "622fd567-424a-4dad-8e35-6c3673a9f196"
      },
      "source": [
        "# N=10\n",
        "model.fit(train_images, train_labels, epochs=10)\n",
        "# Validation Accuracy = 0.8848"
      ],
      "execution_count": 63,
      "outputs": [
        {
          "output_type": "stream",
          "text": [
            "Epoch 1/10\n",
            "1875/1875 [==============================] - 4s 2ms/step - loss: 0.6371 - accuracy: 0.7784\n",
            "Epoch 2/10\n",
            "1875/1875 [==============================] - 3s 2ms/step - loss: 0.3806 - accuracy: 0.8609\n",
            "Epoch 3/10\n",
            "1875/1875 [==============================] - 3s 2ms/step - loss: 0.3414 - accuracy: 0.8764\n",
            "Epoch 4/10\n",
            "1875/1875 [==============================] - 3s 2ms/step - loss: 0.3134 - accuracy: 0.8847\n",
            "Epoch 5/10\n",
            "1875/1875 [==============================] - 3s 2ms/step - loss: 0.2891 - accuracy: 0.8936\n",
            "Epoch 6/10\n",
            "1875/1875 [==============================] - 3s 2ms/step - loss: 0.2780 - accuracy: 0.8972\n",
            "Epoch 7/10\n",
            "1875/1875 [==============================] - 3s 2ms/step - loss: 0.2677 - accuracy: 0.9000\n",
            "Epoch 8/10\n",
            "1875/1875 [==============================] - 3s 2ms/step - loss: 0.2559 - accuracy: 0.9051\n",
            "Epoch 9/10\n",
            "1875/1875 [==============================] - 3s 2ms/step - loss: 0.2458 - accuracy: 0.9077\n",
            "Epoch 10/10\n",
            "1875/1875 [==============================] - 3s 2ms/step - loss: 0.2375 - accuracy: 0.9122\n"
          ],
          "name": "stdout"
        },
        {
          "output_type": "execute_result",
          "data": {
            "text/plain": [
              "<tensorflow.python.keras.callbacks.History at 0x7f03ab9d75f8>"
            ]
          },
          "metadata": {
            "tags": []
          },
          "execution_count": 63
        }
      ]
    },
    {
      "cell_type": "code",
      "metadata": {
        "colab": {
          "base_uri": "https://localhost:8080/"
        },
        "id": "mG6rFE6G7x7z",
        "outputId": "1578cc1f-86df-4248-d379-e828e4d07efa"
      },
      "source": [
        "# N=12\n",
        "model.fit(train_images, train_labels, epochs=12)\n",
        "# Validation Accuracy = 0.8789"
      ],
      "execution_count": 67,
      "outputs": [
        {
          "output_type": "stream",
          "text": [
            "Epoch 1/12\n",
            "1875/1875 [==============================] - 4s 2ms/step - loss: 0.6395 - accuracy: 0.7756\n",
            "Epoch 2/12\n",
            "1875/1875 [==============================] - 3s 2ms/step - loss: 0.3851 - accuracy: 0.8615\n",
            "Epoch 3/12\n",
            "1875/1875 [==============================] - 3s 2ms/step - loss: 0.3391 - accuracy: 0.8765\n",
            "Epoch 4/12\n",
            "1875/1875 [==============================] - 3s 2ms/step - loss: 0.3169 - accuracy: 0.8835\n",
            "Epoch 5/12\n",
            "1875/1875 [==============================] - 3s 2ms/step - loss: 0.2966 - accuracy: 0.8905\n",
            "Epoch 6/12\n",
            "1875/1875 [==============================] - 3s 2ms/step - loss: 0.2802 - accuracy: 0.8963\n",
            "Epoch 7/12\n",
            "1875/1875 [==============================] - 3s 2ms/step - loss: 0.2703 - accuracy: 0.8986\n",
            "Epoch 8/12\n",
            "1875/1875 [==============================] - 3s 2ms/step - loss: 0.2559 - accuracy: 0.9026\n",
            "Epoch 9/12\n",
            "1875/1875 [==============================] - 3s 2ms/step - loss: 0.2495 - accuracy: 0.9050\n",
            "Epoch 10/12\n",
            "1875/1875 [==============================] - 3s 2ms/step - loss: 0.2417 - accuracy: 0.9079\n",
            "Epoch 11/12\n",
            "1875/1875 [==============================] - 3s 2ms/step - loss: 0.2286 - accuracy: 0.9130\n",
            "Epoch 12/12\n",
            "1875/1875 [==============================] - 3s 2ms/step - loss: 0.2258 - accuracy: 0.9150\n"
          ],
          "name": "stdout"
        },
        {
          "output_type": "execute_result",
          "data": {
            "text/plain": [
              "<tensorflow.python.keras.callbacks.History at 0x7f03aa8ea630>"
            ]
          },
          "metadata": {
            "tags": []
          },
          "execution_count": 67
        }
      ]
    },
    {
      "cell_type": "code",
      "metadata": {
        "colab": {
          "base_uri": "https://localhost:8080/"
        },
        "id": "6S_KYHqP7yXR",
        "outputId": "017b0b84-09dc-428f-e800-41682ab40938"
      },
      "source": [
        "# N=14\n",
        "model.fit(train_images, train_labels, epochs=14)\n",
        "# Validation Accuracy = 0.8850"
      ],
      "execution_count": 71,
      "outputs": [
        {
          "output_type": "stream",
          "text": [
            "Epoch 1/14\n",
            "1875/1875 [==============================] - 4s 2ms/step - loss: 0.6256 - accuracy: 0.7828\n",
            "Epoch 2/14\n",
            "1875/1875 [==============================] - 4s 2ms/step - loss: 0.3826 - accuracy: 0.8623\n",
            "Epoch 3/14\n",
            "1875/1875 [==============================] - 4s 2ms/step - loss: 0.3365 - accuracy: 0.8768\n",
            "Epoch 4/14\n",
            "1875/1875 [==============================] - 4s 2ms/step - loss: 0.3108 - accuracy: 0.8874\n",
            "Epoch 5/14\n",
            "1875/1875 [==============================] - 4s 2ms/step - loss: 0.2905 - accuracy: 0.8932\n",
            "Epoch 6/14\n",
            "1875/1875 [==============================] - 4s 2ms/step - loss: 0.2759 - accuracy: 0.8962\n",
            "Epoch 7/14\n",
            "1875/1875 [==============================] - 4s 2ms/step - loss: 0.2609 - accuracy: 0.9047\n",
            "Epoch 8/14\n",
            "1875/1875 [==============================] - 4s 2ms/step - loss: 0.2546 - accuracy: 0.9045\n",
            "Epoch 9/14\n",
            "1875/1875 [==============================] - 4s 2ms/step - loss: 0.2446 - accuracy: 0.9081\n",
            "Epoch 10/14\n",
            "1875/1875 [==============================] - 4s 2ms/step - loss: 0.2370 - accuracy: 0.9121\n",
            "Epoch 11/14\n",
            "1875/1875 [==============================] - 4s 2ms/step - loss: 0.2246 - accuracy: 0.9158\n",
            "Epoch 12/14\n",
            "1875/1875 [==============================] - 3s 2ms/step - loss: 0.2234 - accuracy: 0.9160\n",
            "Epoch 13/14\n",
            "1875/1875 [==============================] - 4s 2ms/step - loss: 0.2103 - accuracy: 0.9197\n",
            "Epoch 14/14\n",
            "1875/1875 [==============================] - 3s 2ms/step - loss: 0.2067 - accuracy: 0.9213\n"
          ],
          "name": "stdout"
        },
        {
          "output_type": "execute_result",
          "data": {
            "text/plain": [
              "<tensorflow.python.keras.callbacks.History at 0x7f03aa008358>"
            ]
          },
          "metadata": {
            "tags": []
          },
          "execution_count": 71
        }
      ]
    },
    {
      "cell_type": "code",
      "metadata": {
        "colab": {
          "base_uri": "https://localhost:8080/"
        },
        "id": "tHLJothn7yit",
        "outputId": "0d2a0070-883b-466a-bc17-e874a079ce48"
      },
      "source": [
        "# N=16\n",
        "model.fit(train_images, train_labels, epochs=16)\n",
        "# Validation Accuracy = 0.8868"
      ],
      "execution_count": 75,
      "outputs": [
        {
          "output_type": "stream",
          "text": [
            "Epoch 1/16\n",
            "1875/1875 [==============================] - 4s 2ms/step - loss: 0.6408 - accuracy: 0.7764\n",
            "Epoch 2/16\n",
            "1875/1875 [==============================] - 3s 2ms/step - loss: 0.3845 - accuracy: 0.8619\n",
            "Epoch 3/16\n",
            "1875/1875 [==============================] - 3s 2ms/step - loss: 0.3443 - accuracy: 0.8731\n",
            "Epoch 4/16\n",
            "1875/1875 [==============================] - 3s 2ms/step - loss: 0.3129 - accuracy: 0.8843\n",
            "Epoch 5/16\n",
            "1875/1875 [==============================] - 3s 2ms/step - loss: 0.2969 - accuracy: 0.8905\n",
            "Epoch 6/16\n",
            "1875/1875 [==============================] - 3s 2ms/step - loss: 0.2833 - accuracy: 0.8972\n",
            "Epoch 7/16\n",
            "1875/1875 [==============================] - 3s 2ms/step - loss: 0.2717 - accuracy: 0.8993\n",
            "Epoch 8/16\n",
            "1875/1875 [==============================] - 3s 2ms/step - loss: 0.2571 - accuracy: 0.9038\n",
            "Epoch 9/16\n",
            "1875/1875 [==============================] - 3s 2ms/step - loss: 0.2433 - accuracy: 0.9102\n",
            "Epoch 10/16\n",
            "1875/1875 [==============================] - 3s 2ms/step - loss: 0.2394 - accuracy: 0.9112\n",
            "Epoch 11/16\n",
            "1875/1875 [==============================] - 3s 2ms/step - loss: 0.2324 - accuracy: 0.9136\n",
            "Epoch 12/16\n",
            "1875/1875 [==============================] - 3s 2ms/step - loss: 0.2222 - accuracy: 0.9176\n",
            "Epoch 13/16\n",
            "1875/1875 [==============================] - 3s 2ms/step - loss: 0.2158 - accuracy: 0.9194\n",
            "Epoch 14/16\n",
            "1875/1875 [==============================] - 3s 2ms/step - loss: 0.2095 - accuracy: 0.9226\n",
            "Epoch 15/16\n",
            "1875/1875 [==============================] - 3s 2ms/step - loss: 0.2074 - accuracy: 0.9228\n",
            "Epoch 16/16\n",
            "1875/1875 [==============================] - 3s 2ms/step - loss: 0.2037 - accuracy: 0.9240\n"
          ],
          "name": "stdout"
        },
        {
          "output_type": "execute_result",
          "data": {
            "text/plain": [
              "<tensorflow.python.keras.callbacks.History at 0x7f03afe32128>"
            ]
          },
          "metadata": {
            "tags": []
          },
          "execution_count": 75
        }
      ]
    },
    {
      "cell_type": "code",
      "metadata": {
        "colab": {
          "base_uri": "https://localhost:8080/"
        },
        "id": "hD0_CVKc7y3n",
        "outputId": "a38ede43-17b8-49ba-c71d-5b9d4134d486"
      },
      "source": [
        "# N=18\n",
        "model.fit(train_images, train_labels, epochs=18)\n",
        "# Validation Accuracy = 0.8899"
      ],
      "execution_count": 79,
      "outputs": [
        {
          "output_type": "stream",
          "text": [
            "Epoch 1/18\n",
            "1875/1875 [==============================] - 4s 2ms/step - loss: 0.6235 - accuracy: 0.7839\n",
            "Epoch 2/18\n",
            "1875/1875 [==============================] - 3s 2ms/step - loss: 0.3866 - accuracy: 0.8602\n",
            "Epoch 3/18\n",
            "1875/1875 [==============================] - 4s 2ms/step - loss: 0.3402 - accuracy: 0.8770\n",
            "Epoch 4/18\n",
            "1875/1875 [==============================] - 3s 2ms/step - loss: 0.3166 - accuracy: 0.8852\n",
            "Epoch 5/18\n",
            "1875/1875 [==============================] - 3s 2ms/step - loss: 0.2974 - accuracy: 0.8890\n",
            "Epoch 6/18\n",
            "1875/1875 [==============================] - 3s 2ms/step - loss: 0.2756 - accuracy: 0.8980\n",
            "Epoch 7/18\n",
            "1875/1875 [==============================] - 3s 2ms/step - loss: 0.2700 - accuracy: 0.8989\n",
            "Epoch 8/18\n",
            "1875/1875 [==============================] - 4s 2ms/step - loss: 0.2536 - accuracy: 0.9057\n",
            "Epoch 9/18\n",
            "1875/1875 [==============================] - 3s 2ms/step - loss: 0.2438 - accuracy: 0.9091\n",
            "Epoch 10/18\n",
            "1875/1875 [==============================] - 3s 2ms/step - loss: 0.2354 - accuracy: 0.9126\n",
            "Epoch 11/18\n",
            "1875/1875 [==============================] - 3s 2ms/step - loss: 0.2253 - accuracy: 0.9154\n",
            "Epoch 12/18\n",
            "1875/1875 [==============================] - 3s 2ms/step - loss: 0.2173 - accuracy: 0.9203\n",
            "Epoch 13/18\n",
            "1875/1875 [==============================] - 3s 2ms/step - loss: 0.2167 - accuracy: 0.9190\n",
            "Epoch 14/18\n",
            "1875/1875 [==============================] - 4s 2ms/step - loss: 0.2088 - accuracy: 0.9216\n",
            "Epoch 15/18\n",
            "1875/1875 [==============================] - 4s 2ms/step - loss: 0.1989 - accuracy: 0.9247\n",
            "Epoch 16/18\n",
            "1875/1875 [==============================] - 3s 2ms/step - loss: 0.1924 - accuracy: 0.9288\n",
            "Epoch 17/18\n",
            "1875/1875 [==============================] - 3s 2ms/step - loss: 0.1897 - accuracy: 0.9291\n",
            "Epoch 18/18\n",
            "1875/1875 [==============================] - 4s 2ms/step - loss: 0.1848 - accuracy: 0.9306\n"
          ],
          "name": "stdout"
        },
        {
          "output_type": "execute_result",
          "data": {
            "text/plain": [
              "<tensorflow.python.keras.callbacks.History at 0x7f03be813048>"
            ]
          },
          "metadata": {
            "tags": []
          },
          "execution_count": 79
        }
      ]
    },
    {
      "cell_type": "code",
      "metadata": {
        "colab": {
          "base_uri": "https://localhost:8080/"
        },
        "id": "Zvc9YxBz7zSN",
        "outputId": "2b25e6a6-7f24-40ef-f760-0cf7fff133ba"
      },
      "source": [
        "# N=20\n",
        "model.fit(train_images, train_labels, epochs=20)\n",
        "# Validation Accuracy = 0.8858"
      ],
      "execution_count": 83,
      "outputs": [
        {
          "output_type": "stream",
          "text": [
            "Epoch 1/20\n",
            "1875/1875 [==============================] - 4s 2ms/step - loss: 0.6330 - accuracy: 0.7816\n",
            "Epoch 2/20\n",
            "1875/1875 [==============================] - 3s 2ms/step - loss: 0.3802 - accuracy: 0.8628\n",
            "Epoch 3/20\n",
            "1875/1875 [==============================] - 3s 2ms/step - loss: 0.3367 - accuracy: 0.8798\n",
            "Epoch 4/20\n",
            "1875/1875 [==============================] - 4s 2ms/step - loss: 0.3143 - accuracy: 0.8848\n",
            "Epoch 5/20\n",
            "1875/1875 [==============================] - 3s 2ms/step - loss: 0.2955 - accuracy: 0.8909\n",
            "Epoch 6/20\n",
            "1875/1875 [==============================] - 3s 2ms/step - loss: 0.2798 - accuracy: 0.8958\n",
            "Epoch 7/20\n",
            "1875/1875 [==============================] - 4s 2ms/step - loss: 0.2704 - accuracy: 0.8997\n",
            "Epoch 8/20\n",
            "1875/1875 [==============================] - 4s 2ms/step - loss: 0.2560 - accuracy: 0.9037\n",
            "Epoch 9/20\n",
            "1875/1875 [==============================] - 4s 2ms/step - loss: 0.2517 - accuracy: 0.9049\n",
            "Epoch 10/20\n",
            "1875/1875 [==============================] - 3s 2ms/step - loss: 0.2323 - accuracy: 0.9141\n",
            "Epoch 11/20\n",
            "1875/1875 [==============================] - 4s 2ms/step - loss: 0.2247 - accuracy: 0.9156\n",
            "Epoch 12/20\n",
            "1875/1875 [==============================] - 4s 2ms/step - loss: 0.2198 - accuracy: 0.9170\n",
            "Epoch 13/20\n",
            "1875/1875 [==============================] - 3s 2ms/step - loss: 0.2099 - accuracy: 0.9218\n",
            "Epoch 14/20\n",
            "1875/1875 [==============================] - 4s 2ms/step - loss: 0.2083 - accuracy: 0.9195\n",
            "Epoch 15/20\n",
            "1875/1875 [==============================] - 3s 2ms/step - loss: 0.2021 - accuracy: 0.9224\n",
            "Epoch 16/20\n",
            "1875/1875 [==============================] - 3s 2ms/step - loss: 0.1959 - accuracy: 0.9280\n",
            "Epoch 17/20\n",
            "1875/1875 [==============================] - 4s 2ms/step - loss: 0.1943 - accuracy: 0.9265\n",
            "Epoch 18/20\n",
            "1875/1875 [==============================] - 3s 2ms/step - loss: 0.1822 - accuracy: 0.9314\n",
            "Epoch 19/20\n",
            "1875/1875 [==============================] - 3s 2ms/step - loss: 0.1811 - accuracy: 0.9320\n",
            "Epoch 20/20\n",
            "1875/1875 [==============================] - 3s 2ms/step - loss: 0.1772 - accuracy: 0.9322\n"
          ],
          "name": "stdout"
        },
        {
          "output_type": "execute_result",
          "data": {
            "text/plain": [
              "<tensorflow.python.keras.callbacks.History at 0x7f03a6e52710>"
            ]
          },
          "metadata": {
            "tags": []
          },
          "execution_count": 83
        }
      ]
    },
    {
      "cell_type": "code",
      "metadata": {
        "colab": {
          "base_uri": "https://localhost:8080/"
        },
        "id": "GSHEsH3h8GfK",
        "outputId": "8f201bbb-2de2-47e3-ca99-65d56bb15d17"
      },
      "source": [
        "# Evaluate the accuracy\n",
        "test_loss, test_acc = model.evaluate(test_images,  test_labels, verbose=2)\n",
        "\n",
        "print('\\nTest accuracy:', test_acc)"
      ],
      "execution_count": 84,
      "outputs": [
        {
          "output_type": "stream",
          "text": [
            "313/313 - 0s - loss: 0.3659 - accuracy: 0.8858\n",
            "\n",
            "Test accuracy: 0.8858000040054321\n"
          ],
          "name": "stdout"
        }
      ]
    },
    {
      "cell_type": "markdown",
      "metadata": {
        "id": "Xe_MGOPMAOS_"
      },
      "source": [
        "**Conclusion** -- The validation accuracy increased as the number of training epochs increased, but started slowing down as epochs grew over 10 and even sometimes lead to a lower accuracy (from 10 to 12 epochs and 18 to 20 epochs)."
      ]
    },
    {
      "cell_type": "markdown",
      "metadata": {
        "id": "tEJUGpRSkv5N"
      },
      "source": [
        "# Part 3. Mini-project: MedMNIST classifier (100 points) <br>\r\n",
        "\r\n",
        "## 3A. Set up your project folder on Google Drive and get the MedMNIST data\r\n",
        "* If you don't already have, [Google Drive](https://www.google.com/intl/en_in/drive/), get it. <br>\r\n",
        "\r\n",
        "* Save a copy of this notebook in Google Drive: from the `File` menu of this notebook, choose `Save a Copy In Drive` \r\n",
        "* Now you can rename your copy of the notebook to whatever name you choose\r\n",
        "* From the `File` menu, choose `Locate in Drive` to see the saved copy of the notebook in your Google Drive\r\n",
        "* Make a new folder in Google Drive called `Colab Notebooks`\r\n",
        "* In the `Colab Notebooks` folder, make a subfolder called `Make School Winter 2021 Intensive`\r\n",
        "* Move your saved copy of the notebook file into the `Make School Winter 2021 Intensive` folder\r\n",
        "* Download the [MedMNIST data sets](https://zenodo.org/record/4269852) to your computer.\r\n",
        "* Put the data files into the `Make School Winter 2021 Intensive` folder in your Google Drive. To do this:<br>\r\n",
        "1. From the `File` menu, choose `Locate in Drive` <br>\r\n",
        "2. Click the colored `+ New` icon at the top left and choose `File upload`<br>\r\n",
        "3. Navigate to the folder in your computer where you downloaded the data files, and select all 10 of the `.npz files` for upload. The upload process may take a few minutes.\r\n",
        "\r\n",
        "\r\n",
        "\r\n",
        "\r\n",
        "\r\n",
        "\r\n",
        "\r\n",
        "\r\n",
        "\r\n",
        "\r\n"
      ]
    },
    {
      "cell_type": "markdown",
      "metadata": {
        "id": "QJcGV0xnrfIZ"
      },
      "source": [
        "## 3B. Code to read and extract the MedMNIST data sets\r\n",
        "The ten data sets can be downloaded one by one by following the `zenodo` link in the [MedMNIST Classification Decathlon home page](https://medmnist.github.io/)<br>\r\n",
        " <br>\r\n",
        "The project is described in this short [paper](https://arxiv.org/abs/2010.14925) <br>\r\n",
        "\r\n",
        "\r\n",
        "Download the data files and copy them into the `Make School Winter 2021 Intensive` folder<br>\r\n",
        "The data files have the`.npz` extension. <br>\r\n",
        "They are in a \"compressed numpy format\", and they can be read using the `load_npz` command.<br>\r\n",
        "Below is code you can use to read any of the MedMNIST data sets into the format required to train your model."
      ]
    },
    {
      "cell_type": "markdown",
      "metadata": {
        "id": "F7Jtw3UJ4F8k"
      },
      "source": [
        "### Mount your local file system on Google Drive"
      ]
    },
    {
      "cell_type": "code",
      "metadata": {
        "colab": {
          "base_uri": "https://localhost:8080/"
        },
        "id": "P63q0m5y3CvI",
        "outputId": "71ad652e-f252-4011-81ee-6838f3a02174"
      },
      "source": [
        "from google.colab import drive\r\n",
        "drive.mount('/content/drive')"
      ],
      "execution_count": null,
      "outputs": [
        {
          "output_type": "stream",
          "text": [
            "Mounted at /content/drive\n"
          ],
          "name": "stdout"
        }
      ]
    },
    {
      "cell_type": "markdown",
      "metadata": {
        "id": "9BrgSWl64UdX"
      },
      "source": [
        "### Navigate to your project folder on Google Drive"
      ]
    },
    {
      "cell_type": "code",
      "metadata": {
        "colab": {
          "base_uri": "https://localhost:8080/"
        },
        "id": "FwlUaOEP4Cto",
        "outputId": "ce251d89-2a5f-4431-af9b-df6b8eba4bb2"
      },
      "source": [
        "%cd /content/drive/MyDrive/Intensives/Colab Notebooks/Make School Winter 2021 Intensive\r\n",
        "%ls "
      ],
      "execution_count": null,
      "outputs": [
        {
          "output_type": "stream",
          "text": [
            "/content/drive/MyDrive/Intensives/Colab Notebooks/Make School Winter 2021 Intensive\n",
            " breastmnist.npz\n",
            " chestmnist.npz\n",
            " dermamnist.npz\n",
            "'Int 1.2 OCTMNIST PneumoniaMNIST_classification.ipynb'\n",
            "'Int 1.2 OCTMNIST PneumoniaMNIST_classification(old).ipynb'\n",
            " octmnist.npz\n",
            " organmnist_axial.npz\n",
            " organmnist_coronal.npz\n",
            " organmnist_sagittal.npz\n",
            " pathmnist.npz\n",
            " pneumoniamnist.npz\n",
            " retinamnist.npz\n"
          ],
          "name": "stdout"
        }
      ]
    },
    {
      "cell_type": "code",
      "metadata": {
        "id": "LasEbcMisAwo",
        "colab": {
          "base_uri": "https://localhost:8080/"
        },
        "outputId": "42414102-b439-4bbb-e01a-0862ad771003"
      },
      "source": [
        "import tensorflow as tf\r\n",
        "import numpy as np\r\n",
        "import matplotlib.pyplot as plt\r\n",
        "import os\r\n",
        "\r\n",
        "print(tf.__version__)"
      ],
      "execution_count": null,
      "outputs": [
        {
          "output_type": "stream",
          "text": [
            "2.4.0\n"
          ],
          "name": "stdout"
        }
      ]
    },
    {
      "cell_type": "markdown",
      "metadata": {
        "id": "jCVpZZoosEzg"
      },
      "source": [
        "### Read the MedMNIST data sets into a `python dictionary` \r\n",
        "The `keys` are the names of the MedMNIST data sets <br> \r\n",
        "The `values` contain the data sets"
      ]
    },
    {
      "cell_type": "code",
      "metadata": {
        "colab": {
          "base_uri": "https://localhost:8080/"
        },
        "id": "_vMkQLb1sL9i",
        "outputId": "44dc6eb5-3407-4793-c54a-fd4d53b1a2b9"
      },
      "source": [
        "# make a list of the .npz files\r\n",
        "files = [x for x in os.listdir() if x[-4::]=='.npz']\r\n",
        "print('List of the MedMNIST data set files:\\n',files)\r\n",
        "\r\n",
        "# make a list of the MedMNIST data sets\r\n",
        "data_sets = [x[:-4] for x in os.listdir() if x[-3::]=='npz']\r\n",
        "print('\\n\\n','The names of the MedMNIST data sets are:\\n',data_sets)\r\n",
        "\r\n",
        "# extract the MedMNIST data sets into a dictionary named MedMNIST\r\n",
        "MedMNIST = {file[:-4]:np.load(file) for file in files}"
      ],
      "execution_count": null,
      "outputs": [
        {
          "output_type": "stream",
          "text": [
            "List of the MedMNIST data set files:\n",
            " ['octmnist.npz', 'breastmnist.npz', 'retinamnist.npz', 'dermamnist.npz', 'chestmnist.npz', 'organmnist_axial.npz', 'organmnist_coronal.npz', 'pneumoniamnist.npz', 'organmnist_sagittal.npz', 'pathmnist.npz']\n",
            "\n",
            "\n",
            " The names of the MedMNIST data sets are:\n",
            " ['octmnist', 'breastmnist', 'retinamnist', 'dermamnist', 'chestmnist', 'organmnist_axial', 'organmnist_coronal', 'pneumoniamnist', 'organmnist_sagittal', 'pathmnist']\n"
          ],
          "name": "stdout"
        }
      ]
    },
    {
      "cell_type": "markdown",
      "metadata": {
        "id": "NbsNU-uTtdeC"
      },
      "source": [
        "### The dictionary's `keys` are the names of the MedMNIST data sets"
      ]
    },
    {
      "cell_type": "code",
      "metadata": {
        "id": "c1yfljDptiFD",
        "colab": {
          "base_uri": "https://localhost:8080/"
        },
        "outputId": "e5bdb852-a84e-4a79-f46b-7ad21fc3771f"
      },
      "source": [
        "print(list(MedMNIST.keys()))"
      ],
      "execution_count": null,
      "outputs": [
        {
          "output_type": "stream",
          "text": [
            "['octmnist', 'breastmnist', 'retinamnist', 'dermamnist', 'chestmnist', 'organmnist_axial', 'organmnist_coronal', 'pneumoniamnist', 'organmnist_sagittal', 'pathmnist']\n"
          ],
          "name": "stdout"
        }
      ]
    },
    {
      "cell_type": "markdown",
      "metadata": {
        "id": "rA1GYD3Bttbq"
      },
      "source": [
        "### How can we extract the MedMNIST data sets from our dictionary?\r\n",
        "The entries in our dictionary are objects of type `<class 'numpy.lib.npyio.NpzFile'>`<br>\r\n",
        "It turns out that each of these objects itself contains a dictionary. <br>\r\n",
        "The object has a `files` attribute with the `keys` to this dictionary within a dictionary<br>\r\n",
        "These `keys` are the names of the data sets we want!<br>\r\n",
        "Let's see how this works, by examining the object corresponding to the `octmnist` data set"
      ]
    },
    {
      "cell_type": "code",
      "metadata": {
        "id": "jdeLNCJutzOr",
        "colab": {
          "base_uri": "https://localhost:8080/"
        },
        "outputId": "ceebc2fb-0c74-4798-c436-c11d071661ba"
      },
      "source": [
        "print('The MedMNIST dictionary entries are objects of type\\n',type(MedMNIST['octmnist']))\r\n",
        "print('\\nEach such object contains a dictionary whose keys are\\n',MedMNIST['octmnist'].files)"
      ],
      "execution_count": null,
      "outputs": [
        {
          "output_type": "stream",
          "text": [
            "The MedMNIST dictionary entries are objects of type\n",
            " <class 'numpy.lib.npyio.NpzFile'>\n",
            "\n",
            "Each such object contains a dictionary whose keys are\n",
            " ['train_images', 'val_images', 'test_images', 'train_labels', 'val_labels', 'test_labels']\n"
          ],
          "name": "stdout"
        }
      ]
    },
    {
      "cell_type": "markdown",
      "metadata": {
        "id": "eXidrp5Ot8VI"
      },
      "source": [
        "### Using the `keys`, let's extract the `octmnist` data set as an example\r\n",
        "Note that `TensorFlow/Keras` requires the labels to be a vector, not a 1-dimensional array;\r\n",
        "that's the reason we use the `.squeeze()`commands in the code cell below."
      ]
    },
    {
      "cell_type": "code",
      "metadata": {
        "id": "nVuQT58RuB4g"
      },
      "source": [
        "train_labels = MedMNIST['octmnist']['train_labels'].squeeze()\r\n",
        "train_images = MedMNIST['octmnist']['train_images']\r\n",
        "\r\n",
        "val_labels = MedMNIST['octmnist']['val_labels'].squeeze()\r\n",
        "val_images = MedMNIST['octmnist']['val_images']\r\n",
        "\r\n",
        "test_labels = MedMNIST['octmnist']['test_labels'].squeeze()\r\n",
        "test_images = MedMNIST['octmnist']['test_images']"
      ],
      "execution_count": null,
      "outputs": []
    },
    {
      "cell_type": "markdown",
      "metadata": {
        "id": "WALhRHoLuGhU"
      },
      "source": [
        "### Let's check that the data is in the correct format for TensorFlow/Keras\r\n",
        "Yep. Looks good. We see below that there are <br>\r\n",
        "* 546 examples in the `train` data set\r\n",
        "* 78 examples in the `valid` data set\r\n",
        "* 156 examples in the `test` data set <br>\r\n",
        "\r\n",
        "This is a rather small data set, so you probably want to choose one of the larger data sets for your project in order to get higher accuracy from your model.\r\n",
        "\r\n"
      ]
    },
    {
      "cell_type": "code",
      "metadata": {
        "id": "Q396dZypuM3w",
        "colab": {
          "base_uri": "https://localhost:8080/"
        },
        "outputId": "87d9fe09-99a8-4666-9751-8784acf4848b"
      },
      "source": [
        "print(train_images.shape)\r\n",
        "print(train_labels.shape)\r\n",
        "print(train_labels[0:10])"
      ],
      "execution_count": null,
      "outputs": [
        {
          "output_type": "stream",
          "text": [
            "(97477, 28, 28)\n",
            "(97477,)\n",
            "[0 3 3 3 0 3 1 0 3 3]\n"
          ],
          "name": "stdout"
        }
      ]
    },
    {
      "cell_type": "code",
      "metadata": {
        "id": "_rGmSblOuPNG",
        "colab": {
          "base_uri": "https://localhost:8080/"
        },
        "outputId": "a6db0d91-1b68-48e6-d27c-45091c7b26e8"
      },
      "source": [
        "print(val_images.shape)\r\n",
        "print(val_labels.shape)"
      ],
      "execution_count": null,
      "outputs": [
        {
          "output_type": "stream",
          "text": [
            "(10832, 28, 28)\n",
            "(10832,)\n"
          ],
          "name": "stdout"
        }
      ]
    },
    {
      "cell_type": "code",
      "metadata": {
        "id": "aGsVPN64uRZb",
        "colab": {
          "base_uri": "https://localhost:8080/"
        },
        "outputId": "f700360d-df89-4266-9b14-8a8df62d6354"
      },
      "source": [
        "print(test_images.shape)\r\n",
        "print(test_labels.shape)"
      ],
      "execution_count": null,
      "outputs": [
        {
          "output_type": "stream",
          "text": [
            "(1000, 28, 28)\n",
            "(1000,)\n"
          ],
          "name": "stdout"
        }
      ]
    },
    {
      "cell_type": "code",
      "metadata": {
        "id": "1cWoYUrKlnzT"
      },
      "source": [
        "#imporvised classnames (not provided class names)\n",
        "class_names = [0,1,2,3]"
      ],
      "execution_count": null,
      "outputs": []
    },
    {
      "cell_type": "markdown",
      "metadata": {
        "id": "UAHX5Hpc-emm"
      },
      "source": [
        "### How to handle the MedMNIST data sets that have RGB images instead of grayscale images?"
      ]
    },
    {
      "cell_type": "markdown",
      "metadata": {
        "id": "4KFTEzEe-cOe"
      },
      "source": [
        "\r\n",
        "\r\n",
        "For some of the MedMNIST data sets, each example is a set of three RGB (i.e., Red, Green, Blue) images rather than a single grayscale image. \r\n",
        "\r\n",
        "So if there were say 10,000 images in the training set, `train_images.shape` would be (10000, 28, 28, 3)\r\n",
        "\r\n",
        "Of course, the tensorflow classifier that we used with FashionMNIST will throw an error if you give it `train_images` as the input, because it expects a single grayscale image, not a set of three RGB images!\r\n",
        "\r\n",
        "So what can you do? \r\n",
        "\r\n",
        "A quick solution is to extract only the R (or  G, or B) from each example.\r\n",
        "\r\n",
        "Save the original data object, because we'll want it for later:<br>\r\n",
        "`train_images_original = train_images`\r\n",
        "\r\n",
        "Then extract only the first image for each example:<br>\r\n",
        "`train_images = train_images[:,:,:,0]`\r\n",
        "\r\n",
        "Now check: `train_images.shape` should be\r\n",
        "(10000,28,28) With this as the input your classifier should train! \r\n",
        "\r\n",
        "Is that the best solution? Probably not, because you are throwing away valuable data in the other two images!\r\n",
        "\r\n",
        "You might be able to improve your model accuracy by including information from the other two images.\r\n",
        "\r\n",
        "One way is to simply *average* the three RGB images together for each example, and use the averaged image instead of the first image.\r\n",
        "\r\n",
        "Here's how to average all the RGB images into a single image:<br>\r\n",
        "`train_images = train_images_original.mean(axis=-1)`\r\n",
        "and check, as before that `train_images.shape` is (10000,28,28)\r\n",
        "\r\n",
        "Another way is to *concatenate* the three RGB images. <br>\r\n",
        "Concatenation means arranging the three 28 x 28 images arrays side by side. <br>\r\n",
        "This is equivalent to a single 28 x 3*28 array, i.e. a 28 x 84 array.  \r\n",
        "\r\n",
        "To do this, let's first extract the R, G, and B images separately:\r\n",
        "\r\n",
        "`R_images = train_images_original[:,:,:,0]`<br>\r\n",
        "`G_images = train_images_original[:,:,:,1]`<br>\r\n",
        "`B_images = train_images_original[:,:,:,2]`<br>\r\n",
        "\r\n",
        "Then we can concatenate them into a\r\n",
        "(10000, 28, 84) array:\r\n",
        "\r\n",
        "`train_images = np.concatenate((R_images,G_images, B_images), axis = -1)`, and check that `train_images.shape` is indeed (10000, 28, 84).\r\n",
        "\r\n",
        "The tensorflow/keras model should now work fine when you feed it `train_images` as the input. The only difference is that the flattened images will be of dimension 3*784 = 2352 instead of 784, so training will take longer.\r\n",
        "\r\n",
        "It would be interesting to see which of the three methods outlined above gives you the best accuracy for your model!\r\n",
        "\r\n",
        "\r\n",
        "\r\n"
      ]
    },
    {
      "cell_type": "markdown",
      "metadata": {
        "id": "xj2p2_iJqzol"
      },
      "source": [
        "## 3C. Build and test a classifier for one of the MedMNIST data sets.\r\n",
        "\r\n",
        "You will note that each of the MedMNIST data sets is split into three parts. <br>\r\n",
        "There are `training`, `validation`, and `test` sets. <br>\r\n",
        "So why is there a `validation` set? Its purpose is to be used for the experiments you might try to improve the model, such as adding layers and/or nodes, or changing the learning rate and other hyperparameters, etc. <br>\r\n",
        "\r\n",
        "The **No Data Snooping Rule**:<br>\r\n",
        "When you are finished fine-tuning and finalizing your model using the `validation` set, only then should you evaluate its performance on the `test` set to see how well it generalizes to new, unseen, untouched data. Once you have evaluated your model on the test set, you are not allowed to make any more changes in the model!<br>\r\n",
        "\r\n",
        "* Choose one of the MedMNIST data sets. <br>\r\n",
        "Using part 3B of this notebook as a blueprint, extract your chosen MedMNIST data set and prepare it for building a classifier.<br>\r\n",
        "\r\n",
        "* Using Part 1 of this notebook as a blueprint, build, evaluate and test a classifier for that data set.<br>\r\n",
        "\r\n",
        "* Document your code and your results below. <br>\r\n",
        "\r\n"
      ]
    },
    {
      "cell_type": "markdown",
      "metadata": {
        "id": "0iBmvSgwi0Pe"
      },
      "source": [
        "## 1. Importing OCTMNIST database [ABOVE]"
      ]
    },
    {
      "cell_type": "markdown",
      "metadata": {
        "id": "Yx8gtbAKhvjb"
      },
      "source": [
        "## 2. Explore the data\n",
        "\n",
        "Labels"
      ]
    },
    {
      "cell_type": "code",
      "metadata": {
        "id": "zzOyYFnXrJd9",
        "colab": {
          "base_uri": "https://localhost:8080/"
        },
        "outputId": "aa6f36d7-678d-4f1a-e4a6-70143f4844ad"
      },
      "source": [
        "np.unique(train_labels)\n",
        "# Each label is an integer between 0 and 3 for the OCTMNIST data set"
      ],
      "execution_count": null,
      "outputs": [
        {
          "output_type": "execute_result",
          "data": {
            "text/plain": [
              "array([0, 1, 2, 3], dtype=uint8)"
            ]
          },
          "metadata": {
            "tags": []
          },
          "execution_count": 33
        }
      ]
    },
    {
      "cell_type": "markdown",
      "metadata": {
        "id": "h75t3Ff-hmw7"
      },
      "source": [
        "## 3. Preprocess the data"
      ]
    },
    {
      "cell_type": "code",
      "metadata": {
        "colab": {
          "base_uri": "https://localhost:8080/",
          "height": 265
        },
        "id": "GlU0u1X6NsQk",
        "outputId": "c76b4940-f16e-4160-831a-d1a7ac26bba9"
      },
      "source": [
        "# Inspect first image in the training set\n",
        "plt.figure()\n",
        "plt.imshow(train_images[0])\n",
        "plt.colorbar()\n",
        "plt.grid(False)\n",
        "plt.show()"
      ],
      "execution_count": null,
      "outputs": [
        {
          "output_type": "display_data",
          "data": {
            "image/png": "[encoded data removed]",
            "text/plain": [
              "<Figure size 432x288 with 2 Axes>"
            ]
          },
          "metadata": {
            "tags": [],
            "needs_background": "light"
          }
        }
      ]
    },
    {
      "cell_type": "code",
      "metadata": {
        "id": "DNLISRTPlNAb"
      },
      "source": [
        "# Scaling values to range of 0 to 1 before feeding to neural network model (assumed 150 based on image)\n",
        "train_images = train_images / 150.0\n",
        "\n",
        "val_images = val_images / 150.0\n",
        "\n",
        "test_images = test_images / 150.0"
      ],
      "execution_count": null,
      "outputs": []
    },
    {
      "cell_type": "code",
      "metadata": {
        "colab": {
          "base_uri": "https://localhost:8080/",
          "height": 589
        },
        "id": "wnbTYQ2IlfY6",
        "outputId": "3c9fcc91-0594-4e1b-d5f8-fe730b2f0fda"
      },
      "source": [
        "# Displays the first 25 images from the training set and isplays the class name below each image\n",
        "plt.figure(figsize=(10,10))\n",
        "for i in range(25):\n",
        "    plt.subplot(5,5,i+1)\n",
        "    plt.xticks([])\n",
        "    plt.yticks([])\n",
        "    plt.grid(False)\n",
        "    plt.imshow(train_images[i], cmap=plt.cm.binary)\n",
        "    plt.xlabel(class_names[train_labels[i]])\n",
        "plt.show()"
      ],
      "execution_count": null,
      "outputs": [
        {
          "output_type": "display_data",
          "data": {
            "image/png": "[encoded data removed]",
            "text/plain": [
              "<Figure size 720x720 with 25 Axes>"
            ]
          },
          "metadata": {
            "tags": []
          }
        }
      ]
    },
    {
      "cell_type": "markdown",
      "metadata": {
        "id": "CRRVW1AEn1o2"
      },
      "source": [
        "## 4. Build the neural network model"
      ]
    },
    {
      "cell_type": "code",
      "metadata": {
        "id": "a5TN1_yLn5K-"
      },
      "source": [
        "# Setting up the layers\n",
        "# \"The basic building block of a neural network is the layer. Layers extract representations from the data fed into them.\"\n",
        "model = tf.keras.Sequential([\n",
        "    tf.keras.layers.Flatten(input_shape=(28, 28)),\n",
        "    tf.keras.layers.Dense(128, activation='relu'),\n",
        "    tf.keras.layers.Dense(4)\n",
        "])"
      ],
      "execution_count": null,
      "outputs": []
    },
    {
      "cell_type": "markdown",
      "metadata": {
        "id": "3_HN_5D9vep0"
      },
      "source": [
        "The first layer in this network, `tf.keras.layers.Flatten`, transforms the format of the images from a two-dimensional array (of 28 by 28 pixels) to a one-dimensional array (of 28 * 28 = 784 pixels). Think of this layer as unstacking rows of pixels in the image and lining them up. This layer has no parameters to learn; it only reformats the data.\n",
        "\n",
        "After the pixels are flattened, the network consists of a sequence of two `tf.keras.layers.Dense` layers. These are densely connected, or fully connected, neural layers. The first `Dense` layer has 128 nodes (or neurons) **[*default number which can be modified for different results]***. The second (and last) layer returns a logits array with length of 4. Each node contains a score that indicates the current image belongs to one of the 4 classes."
      ]
    },
    {
      "cell_type": "code",
      "metadata": {
        "id": "uKRPCcFmqUZ0"
      },
      "source": [
        "# Compile the model\n",
        "model.compile(optimizer='adam',\n",
        "              loss=tf.keras.losses.SparseCategoricalCrossentropy(from_logits=True),\n",
        "              metrics=['accuracy'])"
      ],
      "execution_count": null,
      "outputs": []
    },
    {
      "cell_type": "markdown",
      "metadata": {
        "id": "uOFvEMeBwfg5"
      },
      "source": [
        "Before the model is ready for training, it needs a few more settings. These are added during the model's *compile* step:\n",
        "\n",
        "* *Loss function* —This measures how accurate the model is during training. You want to minimize this function to \"steer\" the model in the right direction.\n",
        "* *Optimizer* —This is how the model is updated based on the data it sees in order to find the minimum of the loss function.\n",
        "* *Metrics* —Used to monitor the training and testing steps. The following example uses *accuracy*, the fraction of the images that are correctly classified."
      ]
    },
    {
      "cell_type": "markdown",
      "metadata": {
        "id": "VJV0Y28WqXDu"
      },
      "source": [
        "## 5. Train the model"
      ]
    },
    {
      "cell_type": "code",
      "metadata": {
        "colab": {
          "base_uri": "https://localhost:8080/"
        },
        "id": "dbpfX7XPqazf",
        "outputId": "d1f65ae3-7274-4adc-a99a-8c9edd93b823"
      },
      "source": [
        "# To start training, call the model.fit method—so called because it \"fits\" the model to the training data:\n",
        "model.fit(train_images, train_labels, epochs=10)\n",
        "# number of epochs can be edited for different results"
      ],
      "execution_count": null,
      "outputs": [
        {
          "output_type": "stream",
          "text": [
            "Epoch 1/10\n",
            "3047/3047 [==============================] - 6s 2ms/step - loss: 1.1509 - accuracy: 0.4950\n",
            "Epoch 2/10\n",
            "3047/3047 [==============================] - 6s 2ms/step - loss: 1.0604 - accuracy: 0.5735\n",
            "Epoch 3/10\n",
            "3047/3047 [==============================] - 6s 2ms/step - loss: 1.0000 - accuracy: 0.6183\n",
            "Epoch 4/10\n",
            "3047/3047 [==============================] - 6s 2ms/step - loss: 0.9576 - accuracy: 0.6383\n",
            "Epoch 5/10\n",
            "3047/3047 [==============================] - 6s 2ms/step - loss: 0.9389 - accuracy: 0.6448\n",
            "Epoch 6/10\n",
            "3047/3047 [==============================] - 6s 2ms/step - loss: 0.9216 - accuracy: 0.6552\n",
            "Epoch 7/10\n",
            "3047/3047 [==============================] - 6s 2ms/step - loss: 0.9019 - accuracy: 0.6613\n",
            "Epoch 8/10\n",
            "3047/3047 [==============================] - 6s 2ms/step - loss: 0.8956 - accuracy: 0.6665\n",
            "Epoch 9/10\n",
            "3047/3047 [==============================] - 6s 2ms/step - loss: 0.8804 - accuracy: 0.6728\n",
            "Epoch 10/10\n",
            "3047/3047 [==============================] - 6s 2ms/step - loss: 0.8696 - accuracy: 0.6757\n"
          ],
          "name": "stdout"
        },
        {
          "output_type": "execute_result",
          "data": {
            "text/plain": [
              "<tensorflow.python.keras.callbacks.History at 0x7fd20a345f28>"
            ]
          },
          "metadata": {
            "tags": []
          },
          "execution_count": 55
        }
      ]
    },
    {
      "cell_type": "code",
      "metadata": {
        "colab": {
          "base_uri": "https://localhost:8080/"
        },
        "id": "gWnxwIb0q3p-",
        "outputId": "1c6aa1cb-a2b7-40dc-d610-fdce12058ca1"
      },
      "source": [
        "# Evaluates the accuracy\n",
        "test_loss, test_acc = model.evaluate(test_images,  test_labels, verbose=2)\n",
        "\n",
        "print('\\nTest accuracy:', test_acc)"
      ],
      "execution_count": null,
      "outputs": [
        {
          "output_type": "stream",
          "text": [
            "32/32 - 0s - loss: 1.3306 - accuracy: 0.4370\n",
            "\n",
            "Test accuracy: 0.43700000643730164\n"
          ],
          "name": "stdout"
        }
      ]
    },
    {
      "cell_type": "markdown",
      "metadata": {
        "id": "lk6QT66T_xeK"
      },
      "source": [
        "**The accuracy of this neural network model is currently very low (correct only 43.7% of the time)**"
      ]
    },
    {
      "cell_type": "code",
      "metadata": {
        "id": "ZCRg-iwhq_qA"
      },
      "source": [
        "# Making predictions\n",
        "probability_model = tf.keras.Sequential([model, \n",
        "                                         tf.keras.layers.Softmax()])\n",
        "predictions = probability_model.predict(test_images)"
      ],
      "execution_count": null,
      "outputs": []
    },
    {
      "cell_type": "code",
      "metadata": {
        "colab": {
          "base_uri": "https://localhost:8080/"
        },
        "id": "EJCeAfPjrEJR",
        "outputId": "477d3727-02d2-493a-ef2c-9839fe25810a"
      },
      "source": [
        "# Model predicted the label for each image in the testing set. This is the first prediction:\n",
        "predictions[0]"
      ],
      "execution_count": null,
      "outputs": [
        {
          "output_type": "execute_result",
          "data": {
            "text/plain": [
              "array([0.3852652 , 0.19129094, 0.07844191, 0.345002  ], dtype=float32)"
            ]
          },
          "metadata": {
            "tags": []
          },
          "execution_count": 58
        }
      ]
    },
    {
      "cell_type": "code",
      "metadata": {
        "colab": {
          "base_uri": "https://localhost:8080/"
        },
        "id": "Vp1TMIZkrhy0",
        "outputId": "2969c843-cfcf-4ded-b39e-e08342721ae1"
      },
      "source": [
        "# A prediction is an array of 4 numbers. They represent the model's \"confidence\" that the image corresponds \n",
        "# to each of the 4 different types of medical diagnoses. You can see which label has the highest confidence value:\n",
        "np.argmax(predictions[0])"
      ],
      "execution_count": null,
      "outputs": [
        {
          "output_type": "execute_result",
          "data": {
            "text/plain": [
              "0"
            ]
          },
          "metadata": {
            "tags": []
          },
          "execution_count": 59
        }
      ]
    },
    {
      "cell_type": "code",
      "metadata": {
        "colab": {
          "base_uri": "https://localhost:8080/"
        },
        "id": "Z1EDNtM_riWb",
        "outputId": "1eabc4d8-e69a-4d52-d2aa-b58f8597d7a2"
      },
      "source": [
        "# The model believes the image to be of type 0, but the solution says it should have been of type 3.\n",
        "test_labels[0]"
      ],
      "execution_count": null,
      "outputs": [
        {
          "output_type": "execute_result",
          "data": {
            "text/plain": [
              "3"
            ]
          },
          "metadata": {
            "tags": []
          },
          "execution_count": 60
        }
      ]
    },
    {
      "cell_type": "code",
      "metadata": {
        "id": "QmxvUNmurzMd"
      },
      "source": [
        "def plot_image(i, predictions_array, true_label, img):\n",
        "  true_label, img = true_label[i], img[i]\n",
        "  plt.grid(False)\n",
        "  plt.xticks([])\n",
        "  plt.yticks([])\n",
        "\n",
        "  plt.imshow(img, cmap=plt.cm.binary)\n",
        "\n",
        "  predicted_label = np.argmax(predictions_array)\n",
        "  if predicted_label == true_label:\n",
        "    color = 'blue'\n",
        "  else:\n",
        "    color = 'red'\n",
        "\n",
        "  plt.xlabel(\"{} {:2.0f}% ({})\".format(class_names[predicted_label],\n",
        "                                100*np.max(predictions_array),\n",
        "                                class_names[true_label]),\n",
        "                                color=color)\n",
        "\n",
        "def plot_value_array(i, predictions_array, true_label):\n",
        "  true_label = true_label[i]\n",
        "  plt.grid(False)\n",
        "  plt.xticks(range(4))\n",
        "  plt.yticks([])\n",
        "  thisplot = plt.bar(range(4), predictions_array, color=\"#777777\")\n",
        "  plt.ylim([0, 1])\n",
        "  predicted_label = np.argmax(predictions_array)\n",
        "\n",
        "  thisplot[predicted_label].set_color('red')\n",
        "  thisplot[true_label].set_color('blue')"
      ],
      "execution_count": null,
      "outputs": []
    },
    {
      "cell_type": "code",
      "metadata": {
        "colab": {
          "base_uri": "https://localhost:8080/",
          "height": 211
        },
        "id": "gLVPL8Ykr22m",
        "outputId": "5530cd4f-2bb7-4af7-b03e-2d5eefb2c5f3"
      },
      "source": [
        "# Verifying predictions on unseen test images\n",
        "i = 0\n",
        "plt.figure(figsize=(6,3))\n",
        "plt.subplot(1,2,1)\n",
        "plot_image(i, predictions[i], test_labels, test_images)\n",
        "plt.subplot(1,2,2)\n",
        "plot_value_array(i, predictions[i],  test_labels)\n",
        "plt.show()"
      ],
      "execution_count": null,
      "outputs": [
        {
          "output_type": "display_data",
          "data": {
            "image/png": "[encoded data removed]",
            "text/plain": [
              "<Figure size 432x216 with 2 Axes>"
            ]
          },
          "metadata": {
            "tags": [],
            "needs_background": "light"
          }
        }
      ]
    },
    {
      "cell_type": "code",
      "metadata": {
        "colab": {
          "base_uri": "https://localhost:8080/",
          "height": 211
        },
        "id": "1DCp6A29sVZo",
        "outputId": "4d95848f-9d18-457b-9889-85b30b8b7772"
      },
      "source": [
        "i = 12\n",
        "plt.figure(figsize=(6,3))\n",
        "plt.subplot(1,2,1)\n",
        "plot_image(i, predictions[i], test_labels, test_images)\n",
        "plt.subplot(1,2,2)\n",
        "plot_value_array(i, predictions[i],  test_labels)\n",
        "plt.show()"
      ],
      "execution_count": null,
      "outputs": [
        {
          "output_type": "display_data",
          "data": {
            "image/png": "[encoded data removed]",
            "text/plain": [
              "<Figure size 432x216 with 2 Axes>"
            ]
          },
          "metadata": {
            "tags": [],
            "needs_background": "light"
          }
        }
      ]
    },
    {
      "cell_type": "code",
      "metadata": {
        "colab": {
          "base_uri": "https://localhost:8080/",
          "height": 729
        },
        "id": "-mv79uW8sZqy",
        "outputId": "3823eb69-696a-46f9-d48c-b4090f31a48b"
      },
      "source": [
        "# Plot the first X test images, their predicted labels, and the true labels.\n",
        "# Color correct predictions in blue and incorrect predictions in red.\n",
        "num_rows = 5\n",
        "num_cols = 3\n",
        "num_images = num_rows*num_cols\n",
        "plt.figure(figsize=(2*2*num_cols, 2*num_rows))\n",
        "for i in range(num_images):\n",
        "  plt.subplot(num_rows, 2*num_cols, 2*i+1)\n",
        "  plot_image(i, predictions[i], test_labels, test_images)\n",
        "  plt.subplot(num_rows, 2*num_cols, 2*i+2)\n",
        "  plot_value_array(i, predictions[i], test_labels)\n",
        "plt.tight_layout()\n",
        "plt.show()"
      ],
      "execution_count": null,
      "outputs": [
        {
          "output_type": "display_data",
          "data": {
            "image/png": "[encoded data removed]",
            "text/plain": [
              "<Figure size 864x720 with 30 Axes>"
            ]
          },
          "metadata": {
            "tags": [],
            "needs_background": "light"
          }
        }
      ]
    },
    {
      "cell_type": "markdown",
      "metadata": {
        "id": "57MGNoIxsk4E"
      },
      "source": [
        "## 6. Use the trained model"
      ]
    },
    {
      "cell_type": "code",
      "metadata": {
        "colab": {
          "base_uri": "https://localhost:8080/"
        },
        "id": "rcLhYuzesjsz",
        "outputId": "3f238c33-2f67-47ca-c13f-7ea38bfc7c4e"
      },
      "source": [
        "# Grab an image from the test dataset.\n",
        "img = test_images[2]\n",
        "\n",
        "print(img.shape)"
      ],
      "execution_count": null,
      "outputs": [
        {
          "output_type": "stream",
          "text": [
            "(28, 28)\n"
          ],
          "name": "stdout"
        }
      ]
    },
    {
      "cell_type": "code",
      "metadata": {
        "colab": {
          "base_uri": "https://localhost:8080/"
        },
        "id": "VpydABH9srj-",
        "outputId": "ebfb8a73-deca-4feb-aa07-b256f5bacdc9"
      },
      "source": [
        "# Add the image to a batch where it's the only member.\n",
        "img = (np.expand_dims(img,0))\n",
        "\n",
        "print(img.shape)"
      ],
      "execution_count": null,
      "outputs": [
        {
          "output_type": "stream",
          "text": [
            "(1, 28, 28)\n"
          ],
          "name": "stdout"
        }
      ]
    },
    {
      "cell_type": "code",
      "metadata": {
        "colab": {
          "base_uri": "https://localhost:8080/"
        },
        "id": "-CZJQYuHsue-",
        "outputId": "0a0f7475-2af8-43bd-c1c7-5cb79657c292"
      },
      "source": [
        "# Predicts the correct label for the image\n",
        "predictions_single = probability_model.predict(img)\n",
        "\n",
        "print(predictions_single)"
      ],
      "execution_count": null,
      "outputs": [
        {
          "output_type": "stream",
          "text": [
            "[[0.21315089 0.04223544 0.09846476 0.6461489 ]]\n"
          ],
          "name": "stdout"
        }
      ]
    },
    {
      "cell_type": "code",
      "metadata": {
        "colab": {
          "base_uri": "https://localhost:8080/",
          "height": 267
        },
        "id": "SbHo-Uo_s1-2",
        "outputId": "c39701bf-2765-4779-9dcd-9e1b4756fa23"
      },
      "source": [
        "plot_value_array(2, predictions_single[0], test_labels)\n",
        "_ = plt.xticks(range(4), class_names, rotation=45)"
      ],
      "execution_count": null,
      "outputs": [
        {
          "output_type": "display_data",
          "data": {
            "image/png": "[encoded data removed]",
            "text/plain": [
              "<Figure size 432x288 with 1 Axes>"
            ]
          },
          "metadata": {
            "tags": [],
            "needs_background": "light"
          }
        }
      ]
    },
    {
      "cell_type": "code",
      "metadata": {
        "colab": {
          "base_uri": "https://localhost:8080/"
        },
        "id": "bYHn6OWMteu7",
        "outputId": "96e629b0-4561-49c9-9559-8d7354a48484"
      },
      "source": [
        "# Grab the predictions for our (only) image in the batch:\n",
        "np.argmax(predictions_single[0])"
      ],
      "execution_count": null,
      "outputs": [
        {
          "output_type": "execute_result",
          "data": {
            "text/plain": [
              "3"
            ]
          },
          "metadata": {
            "tags": []
          },
          "execution_count": 97
        }
      ]
    },
    {
      "cell_type": "markdown",
      "metadata": {
        "id": "MhoQ0WE77laV"
      },
      "source": [
        "##### Copyright 2018 The TensorFlow Authors."
      ]
    },
    {
      "cell_type": "markdown",
      "metadata": {
        "id": "S5Uhzt6vVIB2"
      },
      "source": [
        "Original notebook from TensorFlow\n",
        "\n",
        "<table class=\"tfo-notebook-buttons\" align=\"left\">\n",
        "  <td>\n",
        "    <a target=\"_blank\" href=\"https://www.tensorflow.org/tutorials/keras/classification\"><img src=\"https://www.tensorflow.org/images/tf_logo_32px.png\" />View on TensorFlow.org</a>\n",
        "  </td>\n",
        "  <td>\n",
        "    <a target=\"_blank\" href=\"https://colab.research.google.com/github/tensorflow/docs/blob/master/site/en/tutorials/keras/classification.ipynb\"><img src=\"https://www.tensorflow.org/images/colab_logo_32px.png\" />Run in Google Colab</a>\n",
        "  </td>\n",
        "  <td>\n",
        "    <a target=\"_blank\" href=\"https://github.com/tensorflow/docs/blob/master/site/en/tutorials/keras/classification.ipynb\"><img src=\"https://www.tensorflow.org/images/GitHub-Mark-32px.png\" />View source on GitHub</a>\n",
        "  </td>\n",
        "  <td>\n",
        "    <a href=\"https://storage.googleapis.com/tensorflow_docs/docs/site/en/tutorials/keras/classification.ipynb\"><img src=\"https://www.tensorflow.org/images/download_logo_32px.png\" />Download notebook</a>\n",
        "  </td>\n",
        "</table>"
      ]
    },
    {
      "cell_type": "code",
      "metadata": {
        "id": "_ckMIh7O7s6D",
        "cellView": "form"
      },
      "source": [
        "#@title Licensed under the Apache License, Version 2.0 (the \"License\");\n",
        "# you may not use this file except in compliance with the License.\n",
        "# You may obtain a copy of the License at\n",
        "#\n",
        "# https://www.apache.org/licenses/LICENSE-2.0\n",
        "#\n",
        "# Unless required by applicable law or agreed to in writing, software\n",
        "# distributed under the License is distributed on an \"AS IS\" BASIS,\n",
        "# WITHOUT WARRANTIES OR CONDITIONS OF ANY KIND, either express or implied.\n",
        "# See the License for the specific language governing permissions and\n",
        "# limitations under the License."
      ],
      "execution_count": null,
      "outputs": []
    },
    {
      "cell_type": "code",
      "metadata": {
        "id": "vasWnqRgy1H4",
        "cellView": "form"
      },
      "source": [
        "#@title MIT License\n",
        "#\n",
        "# Copyright (c) 2017 François Chollet\n",
        "#\n",
        "# Permission is hereby granted, free of charge, to any person obtaining a\n",
        "# copy of this software and associated documentation files (the \"Software\"),\n",
        "# to deal in the Software without restriction, including without limitation\n",
        "# the rights to use, copy, modify, merge, publish, distribute, sublicense,\n",
        "# and/or sell copies of the Software, and to permit persons to whom the\n",
        "# Software is furnished to do so, subject to the following conditions:\n",
        "#\n",
        "# The above copyright notice and this permission notice shall be included in\n",
        "# all copies or substantial portions of the Software.\n",
        "#\n",
        "# THE SOFTWARE IS PROVIDED \"AS IS\", WITHOUT WARRANTY OF ANY KIND, EXPRESS OR\n",
        "# IMPLIED, INCLUDING BUT NOT LIMITED TO THE WARRANTIES OF MERCHANTABILITY,\n",
        "# FITNESS FOR A PARTICULAR PURPOSE AND NONINFRINGEMENT. IN NO EVENT SHALL\n",
        "# THE AUTHORS OR COPYRIGHT HOLDERS BE LIABLE FOR ANY CLAIM, DAMAGES OR OTHER\n",
        "# LIABILITY, WHETHER IN AN ACTION OF CONTRACT, TORT OR OTHERWISE, ARISING\n",
        "# FROM, OUT OF OR IN CONNECTION WITH THE SOFTWARE OR THE USE OR OTHER\n",
        "# DEALINGS IN THE SOFTWARE."
      ],
      "execution_count": null,
      "outputs": []
    }
  ]
}